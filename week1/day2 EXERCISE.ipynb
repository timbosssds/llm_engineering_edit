{
 "cells": [
  {
   "cell_type": "markdown",
   "id": "cbe2255b",
   "metadata": {},
   "source": [
    "__Date:__ 27.12.24<br>\n",
    "__Note:__ Basically a copy of Day one, but using local model. Details between Key part between markers - '-- Key parts --'. "
   ]
  },
  {
   "cell_type": "code",
   "execution_count": null,
   "metadata": {},
   "outputs": [],
   "source": []
  },
  {
   "cell_type": "markdown",
   "id": "d15d8294-3328-4e07-ad16-8a03e9bbfdb9",
   "metadata": {},
   "source": [
    "# Welcome to your first assignment!\n",
    "\n",
    "Instructions are below. Please give this a try, and look in the solutions folder if you get stuck (or feel free to ask me!)"
   ]
  },
  {
   "cell_type": "markdown",
   "id": "ada885d9-4d42-4d9b-97f0-74fbbbfe93a9",
   "metadata": {},
   "source": [
    "<table style=\"margin: 0; text-align: left;\">\n",
    "    <tr>\n",
    "        <td style=\"width: 150px; height: 150px; vertical-align: middle;\">\n",
    "            <img src=\"../resources.jpg\" width=\"150\" height=\"150\" style=\"display: block;\" />\n",
    "        </td>\n",
    "        <td>\n",
    "            <h2 style=\"color:#f71;\">Just before we get to the assignment --</h2>\n",
    "            <span style=\"color:#f71;\">I thought I'd take a second to point you at this page of useful resources for the course. This includes links to all the slides.<br/>\n",
    "            <a href=\"https://edwarddonner.com/2024/11/13/llm-engineering-resources/\">https://edwarddonner.com/2024/11/13/llm-engineering-resources/</a><br/>\n",
    "            Please keep this bookmarked, and I'll continue to add more useful links there over time.\n",
    "            </span>\n",
    "        </td>\n",
    "    </tr>\n",
    "</table>"
   ]
  },
  {
   "cell_type": "markdown",
   "id": "6e9fa1fc-eac5-4d1d-9be4-541b3f2b3458",
   "metadata": {},
   "source": [
    "# HOMEWORK EXERCISE ASSIGNMENT\n",
    "\n",
    "Upgrade the day 1 project to summarize a webpage to use an Open Source model running locally via Ollama rather than OpenAI\n",
    "\n",
    "You'll be able to use this technique for all subsequent projects if you'd prefer not to use paid APIs.\n",
    "\n",
    "**Benefits:**\n",
    "1. No API charges - open-source\n",
    "2. Data doesn't leave your box\n",
    "\n",
    "**Disadvantages:**\n",
    "1. Significantly less power than Frontier Model\n",
    "\n",
    "## Recap on installation of Ollama\n",
    "\n",
    "Simply visit [ollama.com](https://ollama.com) and install!\n",
    "\n",
    "Once complete, the ollama server should already be running locally.  \n",
    "If you visit:  \n",
    "[http://localhost:11434/](http://localhost:11434/)\n",
    "\n",
    "You should see the message `Ollama is running`.  \n",
    "\n",
    "If not, bring up a new Terminal (Mac) or Powershell (Windows) and enter `ollama serve`  \n",
    "And in another Terminal (Mac) or Powershell (Windows), enter `ollama pull llama3.2`  \n",
    "Then try [http://localhost:11434/](http://localhost:11434/) again.\n",
    "\n",
    "If Ollama is slow on your machine, try using `llama3.2:1b` as an alternative. Run `ollama pull llama3.2:1b` from a Terminal or Powershell, and change the code below from `MODEL = \"llama3.2\"` to `MODEL = \"llama3.2:1b\"`"
   ]
  },
  {
   "cell_type": "code",
   "execution_count": 1,
   "id": "4e2a9393-7767-488e-a8bf-27c12dca35bd",
   "metadata": {},
   "outputs": [],
   "source": [
    "# imports\n",
    "\n",
    "import requests\n",
    "from bs4 import BeautifulSoup\n",
    "from IPython.display import Markdown, display"
   ]
  },
  {
   "cell_type": "code",
   "execution_count": 6,
   "id": "29ddd15d-a3c5-4f4e-a678-873f56162724",
   "metadata": {},
   "outputs": [],
   "source": [
    "# Constants\n",
    "\n",
    "OLLAMA_API = \"http://localhost:11434/api/chat\"\n",
    "HEADERS = {\"Content-Type\": \"application/json\"}\n",
    "#MODEL = \"llama3.2\" # Default\n",
    "MODEL = \"llama3.2:1b\" # Trying as might be faster"
   ]
  },
  {
   "cell_type": "code",
   "execution_count": 7,
   "id": "dac0a679-599c-441f-9bf2-ddc73d35b940",
   "metadata": {},
   "outputs": [],
   "source": [
    "# Create a messages list using the same format that we used for OpenAI\n",
    "\n",
    "messages = [\n",
    "    {\"role\": \"user\", \"content\": \"Describe some of the business applications of Generative AI\"}\n",
    "]"
   ]
  },
  {
   "cell_type": "code",
   "execution_count": 8,
   "id": "7bb9c624-14f0-4945-a719-8ddb64f66f47",
   "metadata": {},
   "outputs": [],
   "source": [
    "payload = {\n",
    "        \"model\": MODEL,\n",
    "        \"messages\": messages,\n",
    "        \"stream\": False\n",
    "    }"
   ]
  },
  {
   "cell_type": "code",
   "execution_count": 5,
   "id": "50233231-a9f9-4cfe-a2e5-01329dd91a47",
   "metadata": {},
   "outputs": [],
   "source": [
    "# Took ages to run, but looks like it worked\n",
    "#!ollama pull llama3.2:1b"
   ]
  },
  {
   "cell_type": "code",
   "execution_count": 4,
   "id": "479ff514-e8bd-4985-a572-2ea28bb4fa40",
   "metadata": {},
   "outputs": [
    {
     "name": "stdout",
     "output_type": "stream",
     "text": [
      "howdy geazer\n"
     ]
    }
   ],
   "source": [
    "# This cell connects to above\n",
    "# Let's just make sure the model is loaded\n",
    "\n",
    "#!ollama pull llama3.2 # Didn't need as already have.\n",
    "# Want to try the 1b version, but runnin that code in this cell (even though code commented\n",
    "# out, fails, so running in isolation above)"
   ]
  },
  {
   "cell_type": "code",
   "execution_count": 9,
   "id": "42b9f644-522d-4e05-a691-56e7658c0ea9",
   "metadata": {},
   "outputs": [
    {
     "name": "stdout",
     "output_type": "stream",
     "text": [
      "Generative AI, which includes deep learning-based models like Generative Adversarial Networks (GANs) and Variational Autoencoders (VAEs), has a wide range of business applications across various industries. Here are some examples:\n",
      "\n",
      "1. **Visual Content Creation**: Generative AI can generate high-quality visual content, such as images, videos, and 3D models, for advertising, marketing, and product design purposes. Companies like Google, Facebook, and Netflix use generative AI to create engaging content for their platforms.\n",
      "2. **Product Design and Prototyping**: Generative AI can help designers create innovative products by generating prototypes, user interfaces, and conceptual designs. This can speed up the design process, reduce the need for human involvement, and increase product quality.\n",
      "3. **Content Generation for Advertising**: Generative AI can be used to generate ad copy, such as headlines, descriptions, and calls-to-action, that resonate with users based on their interests, demographics, and behavior.\n",
      "4. **Virtual Reality (VR) and Augmented Reality (AR)**: Generative AI can create immersive VR and AR experiences by generating 3D models, environments, and interactions. This enables companies to build more engaging experiences for customers and improve customer satisfaction.\n",
      "5. **Music Composition**: Generative AI music tools can compose original music tracks based on user preferences, genres, and styles. This opens up new creative possibilities for artists and composers.\n",
      "6. **Fashion Design**: Generative AI can generate 3D models of clothing items, accessories, and textiles, enabling fashion designers to create new designs, patterns, and prototypes more quickly and efficiently.\n",
      "7. **Healthcare Research**: Generative AI can help researchers analyze medical images, create patient profiles, and simulate clinical trials, accelerating the discovery process and improving healthcare outcomes.\n",
      "8. **Education Content Creation**: Generative AI can generate educational content, such as lesson plans, quizzes, and interactive exercises, for online learning platforms like Coursera, Udemy, and edX.\n",
      "9. **Financial Modeling and Predictive Analytics**: Generative AI can help financial institutions create predictive models that forecast market trends, detect anomalies, and identify potential risks, enabling more informed decision-making.\n",
      "10. **Customer Service Chatbots**: Generative AI-powered chatbots can generate personalized responses to customer queries, improving the overall user experience and reducing support costs.\n",
      "\n",
      "These are just a few examples of the many business applications of generative AI across various industries. As the technology continues to evolve, we can expect to see even more innovative uses of generative AI in the future.\n"
     ]
    }
   ],
   "source": [
    "# If this doesn't work for any reason, try the 2 versions in the following cells\n",
    "# And double check the instructions in the 'Recap on installation of Ollama' at the top of this lab\n",
    "# And if none of that works - contact me!\n",
    "\n",
    "response = requests.post(OLLAMA_API, json=payload, headers=HEADERS)\n",
    "print(response.json()['message']['content'])"
   ]
  },
  {
   "cell_type": "markdown",
   "id": "6a021f13-d6a1-4b96-8e18-4eae49d876fe",
   "metadata": {},
   "source": [
    "# Introducing the ollama package\n",
    "\n",
    "And now we'll do the same thing, but using the elegant ollama python package instead of a direct HTTP call.\n",
    "\n",
    "Under the hood, it's making the same call as above to the ollama server running at localhost:11434"
   ]
  },
  {
   "cell_type": "code",
   "execution_count": 13,
   "id": "7745b9c4-57dc-4867-9180-61fa5db55eb8",
   "metadata": {},
   "outputs": [
    {
     "name": "stdout",
     "output_type": "stream",
     "text": [
      "Generative AI, which involves the use of artificial intelligence (AI) to create original content, has numerous business applications across various industries. Here are some examples:\n",
      "\n",
      "1. **Content Creation**: Generative AI can be used to automate the creation of high-quality content such as articles, videos, social media posts, and product descriptions. This can help businesses save time and resources while improving the quality of their content.\n",
      "2. **Product Design**: Generative AI can be used to create unique designs for products, including logos, packaging, and user interfaces. This can help businesses reduce design time and improve the aesthetic appeal of their products.\n",
      "3. **Marketing Automation**: Generative AI can be used to generate personalized marketing messages, such as email campaigns and social media ads, based on customer data and behavior. This can help businesses personalise their marketing efforts and improve engagement with customers.\n",
      "4. **Chatbots and Virtual Assistants**: Generative AI can be used to create conversational interfaces that can assist customers with product information, order tracking, and other tasks. This can help businesses improve the customer experience and reduce support queries.\n",
      "5. **Digital Twinning**: Generative AI can be used to create digital replicas of physical products or assets, such as 3D models or simulations. This can help businesses test and optimize their products more efficiently before launching them in production.\n",
      "6. **Predictive Analytics**: Generative AI can be used to analyze large datasets and identify patterns that can inform business decisions. This can help businesses make more informed decisions about marketing, product development, and resource allocation.\n",
      "7. **Virtual Wardrobe Management**: Generative AI can be used to create virtual clothing models that can be tried on and selected based on the customer's preferences and body type. This can help fashion brands reduce waste and improve customer satisfaction.\n",
      "8. **Automated Financial Analysis**: Generative AI can be used to analyze financial data and identify trends, patterns, and anomalies that can inform business decisions about investments, funding, and resource allocation.\n",
      "9. **Design for Manufacturing (DFM)**: Generative AI can be used to optimize product design and manufacturing processes, such as reducing material usage, minimizing waste, and improving product efficiency.\n",
      "10. **Supply Chain Optimization**: Generative AI can be used to analyze supply chain data and identify areas where costs can be reduced or improved. This can help businesses streamline their supply chains and reduce costs.\n",
      "\n",
      "These are just a few examples of the many business applications of generative AI. As the technology continues to evolve, we can expect to see even more innovative uses across various industries.\n"
     ]
    }
   ],
   "source": [
    "import ollama\n",
    "\n",
    "response = ollama.chat(model=MODEL, messages=messages)\n",
    "print(response['message']['content'])"
   ]
  },
  {
   "cell_type": "markdown",
   "id": "a4704e10-f5fb-4c15-a935-f046c06fb13d",
   "metadata": {},
   "source": [
    "## Alternative approach - using OpenAI python library to connect to Ollama"
   ]
  },
  {
   "cell_type": "code",
   "execution_count": 11,
   "id": "23057e00-b6fc-4678-93a9-6b31cb704bff",
   "metadata": {},
   "outputs": [
    {
     "name": "stdout",
     "output_type": "stream",
     "text": [
      "Generative AI has a wide range of business applications across various industries. Here are some examples:\n",
      "\n",
      "1. **Content creation**: Generative AI can assist in creating high-quality content, such as articles, social media posts, and product descriptions, that are tailored to specific audiences and language styles.\n",
      "2. **Virtual assistants**: AI-powered virtual assistants, like Siri, Alexa, and Google Assistant, use generative models to understand natural language queries and provide relevant responses.\n",
      "3. **Customer service chatbots**: Generative AI can be embedded in customer service chatbots to analyze user feedback, detect patterns, and improve response efficiency.\n",
      "4. **Predictive maintenance**: Manufacturers can use generative AI to model equipment behavior, predict downtime, and optimize maintenance schedules based on historical data and sensor inputs.\n",
      "5. **Supply chain optimization**: Companies can employ generative models to simulate the movement of goods through the supply chain, identifying optimal routes and reducing transportation costs.\n",
      "6. **Financial forecasting**: Generative AI can analyze historical financial data to forecast market trends and predict future stock prices, helping investors make informed decisions.\n",
      "7. **Medical image analysis**: AI-powered generative models can be used to enhance medical imaging, detect abnormalities, and assist in diagnosis, improving patient care.\n",
      "8. **Design optimization**: Generative AI can be used to optimize product design parameters, such as layout, color schemes, and material selection, reducing the need for physical prototyping and sampling.\n",
      "9. **Text mining**: Large-scale text datasets can be processed using generative models to identify relationships between topics, sentiment analysis, and entity extraction.\n",
      "10. **Quality control**: Manufacturers use generative AI to analyze defects in products, predict where they will fail, and flag potential issues before they reach the customer.\n",
      "\n",
      "These examples illustrate how generative AI can streamline business processes, reduce costs, and improve decision-making across various industries. As the technology continues to evolve, I can provide more information on specific applications or technologies if you're interested!\n"
     ]
    }
   ],
   "source": [
    "# There's actually an alternative approach that some people might prefer\n",
    "# You can use the OpenAI client python library to call Ollama:\n",
    "\n",
    "from openai import OpenAI\n",
    "ollama_via_openai = OpenAI(base_url='http://localhost:11434/v1', api_key='ollama')\n",
    "\n",
    "response = ollama_via_openai.chat.completions.create(\n",
    "    model=MODEL,\n",
    "    messages=messages\n",
    ")\n",
    "\n",
    "print(response.choices[0].message.content)"
   ]
  },
  {
   "cell_type": "markdown",
   "id": "1622d9bb-5c68-4d4e-9ca4-b492c751f898",
   "metadata": {},
   "source": [
    "# NOW the exercise for you\n",
    "\n",
    "Take the code from day1 and incorporate it here, to build a website summarizer that uses Llama 3.2 running locally instead of OpenAI; use either of the above approaches."
   ]
  },
  {
   "cell_type": "code",
   "execution_count": 12,
   "id": "402d5686-4e76-4110-b65a-b3906c35c0a4",
   "metadata": {},
   "outputs": [],
   "source": [
    "# The below is a copy of the 'key parts' from Day 1"
   ]
  },
  {
   "cell_type": "markdown",
   "id": "354d4bba-c0c8-4293-8993-f4af679c291d",
   "metadata": {},
   "source": [
    "#### --------------- Key parts ---------------"
   ]
  },
  {
   "cell_type": "code",
   "execution_count": 14,
   "id": "f5944980-be95-455b-b034-a8ff2ad84955",
   "metadata": {},
   "outputs": [],
   "source": [
    "# A class to represent a Webpage\n",
    "# If you're not familiar with Classes, check out the \"Intermediate Python\" notebook\n",
    "\n",
    "# Some websites need you to use proper headers when fetching them:\n",
    "headers = {\n",
    " \"User-Agent\": \"Mozilla/5.0 (Windows NT 10.0; Win64; x64) AppleWebKit/537.36 (KHTML, like Gecko) Chrome/117.0.0.0 Safari/537.36\"\n",
    "}\n",
    "\n",
    "class Website:\n",
    "\n",
    "    def __init__(self, url):\n",
    "        \"\"\"\n",
    "        Create this Website object from the given url using the BeautifulSoup library\n",
    "        \"\"\"\n",
    "        self.url = url\n",
    "        response = requests.get(url, headers=headers)\n",
    "        soup = BeautifulSoup(response.content, 'html.parser')\n",
    "        self.title = soup.title.string if soup.title else \"No title found\"\n",
    "        for irrelevant in soup.body([\"script\", \"style\", \"img\", \"input\"]):\n",
    "            irrelevant.decompose()\n",
    "        self.text = soup.body.get_text(separator=\"\\n\", strip=True)"
   ]
  },
  {
   "cell_type": "code",
   "execution_count": 15,
   "id": "89f3f207-b7c3-4f71-a82f-2b600db4d6bd",
   "metadata": {},
   "outputs": [
    {
     "name": "stdout",
     "output_type": "stream",
     "text": [
      "Australia's leading news site  | news.com.au — Australia’s leading news site\n"
     ]
    }
   ],
   "source": [
    "# Let's try one out. Change the website and add print statements to follow along.\n",
    "\n",
    "#ed = Website(\"https://edwarddonner.com\")\n",
    "#ed = Website(\"https://www.shreesitarammandir.com/\")\n",
    "ed = Website(\"https://www.news.com.au/\")\n",
    "print(ed.title)\n",
    "#print(ed.text)\n",
    "ed1 = ed.text"
   ]
  },
  {
   "cell_type": "code",
   "execution_count": 20,
   "id": "362490cd-1948-4b2f-9dd7-bf2e39c6a5de",
   "metadata": {},
   "outputs": [
    {
     "name": "stdout",
     "output_type": "stream",
     "text": [
      "This article appears to be a list of headlines and articles from various news sources, including Australian media outlets. Here's a breakdown of what the article is about:\n",
      "\n",
      "**Headlines:**\n",
      "\n",
      "1. \"Extreme\" fire danger looms as scorching temperatures expected on Australia's hottest day\n",
      "2. \"Apple AirPods Max slashed in rare deal\"\n",
      "3. \"If you live here, buy a lotto ticket right now\"\n",
      "4. \"Aussie star Jack Vidgen steps back from social media after heartbreaking news\"\n",
      "5. \"Child star, 16, killed in tragic accident\"\n",
      "6. \"Ben Affleck's Christmas gift for Jennifer Lopez revealed\"\n",
      "7. \"Icon Michael Bolton shares rare photo amid health battle\"\n",
      "8. \"TRENDING TOPICS: The Missing $49M\"\n",
      "9. \"Weather: Travel Guides with latest forecasts and warnings\"\n",
      "\n",
      "**Articles:**\n",
      "\n",
      "1. \"Apple AirPods Max slashed in rare deal\" - an article about the price drop of Apple's high-end wireless earbuds.\n",
      "2. \"If you live here, buy a lotto ticket right now\" - an article offering advice on how to win big by buying a lottery ticket.\n",
      "3. \"Aussie star Jack Vidgen steps back from social media after heartbreaking news\" - an update on the life of Australian singer-songwriter Jack Vidgen after he stepped away from social media.\n",
      "4. \"Child star, 16, killed in tragic accident\" - an article about the death of a teenager actor who was involved in a car crash while driving under the influence.\n",
      "5. \"Ben Affleck's Christmas gift for Jennifer Lopez revealed\" - an interview with Ben Affleck discussing his holiday gifts to his girlfriend Jennifer Lopez.\n",
      "6. \"Icon Michael Bolton shares rare photo amid health battle\" - an article about Australian singer-songwriter Michael Bolton sharing a new family photo after battling a brain tumour.\n",
      "\n",
      "Overall, the article appears to be a list of news headlines and articles from various sources, covering topics such as entertainment, lifestyle, sports, finance, and more.\n"
     ]
    }
   ],
   "source": [
    "# t1s\n",
    "\n",
    "sys = f\"\"\"You are an assistant that analyzes the contents of a website \n",
    "that will be prrovided as text that has already been scrapped from the site in question. \\\n",
    "Your task is to provide a short summary, ignoring text that might be navigation related. \\\n",
    "Respond in markdown. Here is the contents of the website (provided as text) {ed1}\"\"\"\n",
    "\n",
    "\n",
    "messages = [\n",
    "    {\"role\": \"user\", \"content\": sys}\n",
    "]\n",
    "\n",
    "# response = chat_session.send_message(message)\n",
    "# print(response.text)\n",
    "import ollama\n",
    "response = ollama.chat(model=MODEL, messages=messages)\n",
    "print(response['message']['content'])"
   ]
  },
  {
   "cell_type": "markdown",
   "id": "552a342a-c7a6-497f-8c3f-e0c88c557e92",
   "metadata": {},
   "source": [
    "#### --------------- Key parts ---------------"
   ]
  },
  {
   "cell_type": "code",
   "execution_count": null,
   "id": "1a9079b4-f47d-459e-b853-d7ad44bfd26d",
   "metadata": {},
   "outputs": [],
   "source": []
  }
 ],
 "metadata": {
  "kernelspec": {
   "display_name": ".venv",
   "language": "python",
   "name": "python3"
  },
  "language_info": {
   "codemirror_mode": {
    "name": "ipython",
    "version": 3
   },
   "file_extension": ".py",
   "mimetype": "text/x-python",
   "name": "python",
   "nbconvert_exporter": "python",
   "pygments_lexer": "ipython3",
   "version": "3.12.8"
  }
 },
 "nbformat": 4,
 "nbformat_minor": 5
}
