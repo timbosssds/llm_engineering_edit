{
 "cells": [
  {
   "cell_type": "code",
   "execution_count": null,
   "id": "dd1f11c9",
   "metadata": {},
   "outputs": [],
   "source": [
    "# Date: 14.01.25\n",
    "# Note: Got end to end working in a bit of a hack way. \n",
    "# end to end is gem, dummy data, rag on dummy data and graio ui... pretty cool"
   ]
  },
  {
   "cell_type": "markdown",
   "id": "dfe37963-1af6-44fc-a841-8e462443f5e6",
   "metadata": {},
   "source": [
    "## Expert Knowledge Worker\n",
    "\n",
    "### A question answering agent that is an expert knowledge worker\n",
    "### To be used by employees of Insurellm, an Insurance Tech company\n",
    "### The agent needs to be accurate and the solution should be low cost.\n",
    "\n",
    "This project will use RAG (Retrieval Augmented Generation) to ensure our question/answering assistant has high accuracy.\n",
    "\n",
    "This first implementation will use a simple, brute-force type of RAG..\n",
    "\n",
    "### Sidenote: Business applications of this week's projects\n",
    "\n",
    "RAG is perhaps the most immediately applicable technique of anything that we cover in the course! In fact, there are commercial products that do precisely what we build this week: nuanced querying across large databases of information, such as company contracts or product specs. RAG gives you a quick-to-market, low cost mechanism for adapting an LLM to your business area."
   ]
  },
  {
   "cell_type": "code",
   "execution_count": 1,
   "id": "ba2779af-84ef-4227-9e9e-6eaf0df87e77",
   "metadata": {},
   "outputs": [],
   "source": [
    "# imports\n",
    "\n",
    "import os\n",
    "import glob\n",
    "from dotenv import load_dotenv\n",
    "import gradio as gr\n",
    "from openai import OpenAI"
   ]
  },
  {
   "cell_type": "code",
   "execution_count": null,
   "id": "58c85082-e417-4708-9efe-81a5d55d1424",
   "metadata": {},
   "outputs": [],
   "source": [
    "# Merged these two and commented out as i use gem below\n",
    "# # price is a factor for our company, so we're going to use a low cost model\n",
    "# MODEL = \"gpt-4o-mini\"\n",
    "\n",
    "# # Load environment variables in a file called .env\n",
    "# load_dotenv()\n",
    "# os.environ['OPENAI_API_KEY'] = os.getenv('OPENAI_API_KEY', 'your-key-if-not-using-env')\n",
    "# openai = OpenAI()"
   ]
  },
  {
   "cell_type": "code",
   "execution_count": 2,
   "id": "f1241b3d",
   "metadata": {},
   "outputs": [
    {
     "name": "stdout",
     "output_type": "stream",
     "text": [
      "There might be a problem with your API key? Please visit the troubleshooting notebook!\n",
      "Understood.  I'm ready for your test. Please proceed.\n",
      "\n"
     ]
    }
   ],
   "source": [
    "# Initialize and constants\n",
    "\n",
    "load_dotenv(override=True)\n",
    "api_key = os.getenv('OPENAI_API_KEY')\n",
    "\n",
    "if api_key and api_key.startswith('sk-proj-') and len(api_key)>10:\n",
    "    print(\"API key looks good so far\")\n",
    "else:\n",
    "    print(\"There might be a problem with your API key? Please visit the troubleshooting notebook!\")\n",
    "    \n",
    "# MODEL = 'gpt-4o-mini'\n",
    "# openai = OpenAI()\n",
    "\n",
    "# ----- Replacing with Gem code -----\n",
    "import os\n",
    "import google.generativeai as genai\n",
    "\n",
    "genai.configure(api_key= api_key)\n",
    "\n",
    "# Create the model\n",
    "generation_config = {\n",
    "  \"temperature\": 1,\n",
    "  \"top_p\": 0.95,\n",
    "  \"top_k\": 40,\n",
    "  \"max_output_tokens\": 8192,\n",
    "  \"response_mime_type\": \"text/plain\",\n",
    "  #\"response_mime_type\": \"application/json\",\n",
    "\n",
    "}\n",
    "\n",
    "model = genai.GenerativeModel(model_name=\"gemini-1.5-flash\",\n",
    "  generation_config=generation_config,)\n",
    "\n",
    "chat_session = model.start_chat(\n",
    "  history=[  ])\n",
    "\n",
    "message = \"this is a test only\"\n",
    "response = chat_session.send_message(message)\n",
    "print(response.text)"
   ]
  },
  {
   "cell_type": "code",
   "execution_count": 3,
   "id": "9e0652c2-3d76-40c7-8313-9dc1895155a8",
   "metadata": {},
   "outputs": [],
   "source": [
    "# With massive thanks to student Dr John S. for fixing a bug in the below for Windows users!\n",
    "\n",
    "context = {}\n",
    "\n",
    "employees = glob.glob(\"knowledge-base/employees/*\")\n",
    "\n",
    "for employee in employees:\n",
    "    name = employee.split(' ')[-1][:-3]\n",
    "    doc = \"\"\n",
    "    with open(employee, \"r\", encoding=\"utf-8\") as f:\n",
    "        doc = f.read()\n",
    "    context[name]=doc"
   ]
  },
  {
   "cell_type": "code",
   "execution_count": 4,
   "id": "2c85a11b-b04d-4066-b243-f96139ca106f",
   "metadata": {},
   "outputs": [
    {
     "data": {
      "text/plain": [
       "\"# Avery Lancaster\\n\\n## Summary\\n- **Date of Birth**: March 15, 1985  \\n- **Job Title**: Co-Founder & Chief Executive Officer (CEO)  \\n- **Location**: San Francisco, California  \\n\\n## Insurellm Career Progression\\n- **2015 - Present**: Co-Founder & CEO  \\n  Avery Lancaster co-founded Insurellm in 2015 and has since guided the company to its current position as a leading Insurance Tech provider. Avery is known for her innovative leadership strategies and risk management expertise that have catapulted the company into the mainstream insurance market.  \\n\\n- **2013 - 2015**: Senior Product Manager at Innovate Insurance Solutions  \\n  Before launching Insurellm, Avery was a leading Senior Product Manager at Innovate Insurance Solutions, where she developed groundbreaking insurance products aimed at the tech sector.  \\n\\n- **2010 - 2013**: Business Analyst at Edge Analytics  \\n  Prior to joining Innovate, Avery worked as a Business Analyst, focusing on market trends and consumer preferences in the insurance space. This position laid the groundwork for Avery’s future entrepreneurial endeavors.\\n\\n## Annual Performance History\\n- **2015**: **Exceeds Expectations**  \\n  Avery’s leadership during Insurellm's foundational year led to successful product launches and securing initial funding.  \\n\\n- **2016**: **Meets Expectations**  \\n  Growth continued, though challenges arose in operational efficiency that required Avery's attention.  \\n\\n- **2017**: **Developing**  \\n  Market competition intensified, and monthly sales metrics were below targets. Avery implemented new strategies which required a steep learning curve.  \\n\\n- **2018**: **Exceeds Expectations**  \\n  Under Avery’s pivoted vision, Insurellm launched two new successful products that significantly increased market share.  \\n\\n- **2019**: **Meets Expectations**  \\n  Steady growth, however, some team tensions led to a minor drop in employee morale. Avery recognized the need to enhance company culture.  \\n\\n- **2020**: **Below Expectations**  \\n  The COVID-19 pandemic posed unforeseen operational difficulties. Avery faced criticism for delayed strategy shifts, although efforts were eventually made to stabilize the company.  \\n\\n- **2021**: **Exceptional**  \\n  Avery's decisive transition to remote work and rapid adoption of digital tools led to record-high customer satisfaction levels and increased sales.  \\n\\n- **2022**: **Satisfactory**  \\n  Avery focused on rebuilding team dynamics and addressing employee concerns, leading to overall improvement despite a saturated market.  \\n\\n- **2023**: **Exceeds Expectations**  \\n  Market leadership was regained with innovative approaches to personalized insurance solutions. Avery is now recognized in industry publications as a leading voice in Insurance Tech innovation.\\n\\n## Compensation History\\n- **2015**: $150,000 base salary + Significant equity stake  \\n- **2016**: $160,000 base salary + Equity increase  \\n- **2017**: $150,000 base salary + Decrease in bonus due to performance  \\n- **2018**: $180,000 base salary + performance bonus of $30,000  \\n- **2019**: $185,000 base salary + market adjustment + $5,000 bonus  \\n- **2020**: $170,000 base salary (temporary reduction due to COVID-19)  \\n- **2021**: $200,000 base salary + performance bonus of $50,000  \\n- **2022**: $210,000 base salary + retention bonus  \\n- **2023**: $225,000 base salary + $75,000 performance bonus  \\n\\n## Other HR Notes\\n- **Professional Development**: Avery has actively participated in leadership training programs and industry conferences, representing Insurellm and fostering partnerships.  \\n- **Diversity & Inclusion Initiatives**: Avery has championed a commitment to diversity in hiring practices, seeing visible improvements in team representation since 2021.  \\n- **Work-Life Balance**: Feedback revealed concerns regarding work-life balance, which Avery has approached by implementing flexible working conditions and ensuring regular check-ins with the team.\\n- **Community Engagement**: Avery led community outreach efforts, focusing on financial literacy programs, particularly aimed at underserved populations, improving Insurellm's corporate social responsibility image.  \\n\\nAvery Lancaster has demonstrated resilience and adaptability throughout her career at Insurellm, positioning the company as a key player in the insurance technology landscape.\""
      ]
     },
     "execution_count": 4,
     "metadata": {},
     "output_type": "execute_result"
    }
   ],
   "source": [
    "context[\"Lancaster\"]"
   ]
  },
  {
   "cell_type": "code",
   "execution_count": 5,
   "id": "a1d231f9-091e-4c72-b0f8-6af578a74e22",
   "metadata": {},
   "outputs": [],
   "source": [
    "products = glob.glob(\"knowledge-base/products/*\")\n",
    "\n",
    "for product in products:\n",
    "    name = product.split(os.sep)[-1][:-3]\n",
    "    doc = \"\"\n",
    "    with open(product, \"r\", encoding=\"utf-8\") as f:\n",
    "        doc = f.read()\n",
    "    context[name]=doc"
   ]
  },
  {
   "cell_type": "code",
   "execution_count": 6,
   "id": "aba46a57-d973-4195-8fe3-70fc60687192",
   "metadata": {},
   "outputs": [
    {
     "data": {
      "text/plain": [
       "dict_keys(['Chen', 'Harper', 'Thomson', 'Lancaster', 'Carter', 'Tran', 'Blake', 'Bishop', 'Thompson', 'Spencer', 'Greene', 'Trenton', 'Carllm', 'Homellm', 'Markellm', 'Rellm'])"
      ]
     },
     "execution_count": 6,
     "metadata": {},
     "output_type": "execute_result"
    }
   ],
   "source": [
    "context.keys()"
   ]
  },
  {
   "cell_type": "code",
   "execution_count": 7,
   "id": "129c7d1e-0094-4479-9459-f9360b95f244",
   "metadata": {},
   "outputs": [],
   "source": [
    "system_message = \"You are an expert in answering accurate questions about Insurellm, the Insurance Tech company. Give brief, accurate answers. If you don't know the answer, say so. Do not make anything up if you haven't been provided with relevant context.\""
   ]
  },
  {
   "cell_type": "code",
   "execution_count": 8,
   "id": "d40e390b-c110-42d5-8d80-daf3295b9862",
   "metadata": {},
   "outputs": [],
   "source": [
    "def get_relevant_context(message):\n",
    "    relevant_context = []\n",
    "    for context_title, context_details in context.items():\n",
    "        if context_title.lower() in message.lower():\n",
    "            relevant_context.append(context_details)\n",
    "    return relevant_context          "
   ]
  },
  {
   "cell_type": "code",
   "execution_count": 9,
   "id": "d126cfcb-e85c-4dd9-837e-9d2b8436d4b1",
   "metadata": {},
   "outputs": [
    {
     "data": {
      "text/plain": [
       "[\"# Avery Lancaster\\n\\n## Summary\\n- **Date of Birth**: March 15, 1985  \\n- **Job Title**: Co-Founder & Chief Executive Officer (CEO)  \\n- **Location**: San Francisco, California  \\n\\n## Insurellm Career Progression\\n- **2015 - Present**: Co-Founder & CEO  \\n  Avery Lancaster co-founded Insurellm in 2015 and has since guided the company to its current position as a leading Insurance Tech provider. Avery is known for her innovative leadership strategies and risk management expertise that have catapulted the company into the mainstream insurance market.  \\n\\n- **2013 - 2015**: Senior Product Manager at Innovate Insurance Solutions  \\n  Before launching Insurellm, Avery was a leading Senior Product Manager at Innovate Insurance Solutions, where she developed groundbreaking insurance products aimed at the tech sector.  \\n\\n- **2010 - 2013**: Business Analyst at Edge Analytics  \\n  Prior to joining Innovate, Avery worked as a Business Analyst, focusing on market trends and consumer preferences in the insurance space. This position laid the groundwork for Avery’s future entrepreneurial endeavors.\\n\\n## Annual Performance History\\n- **2015**: **Exceeds Expectations**  \\n  Avery’s leadership during Insurellm's foundational year led to successful product launches and securing initial funding.  \\n\\n- **2016**: **Meets Expectations**  \\n  Growth continued, though challenges arose in operational efficiency that required Avery's attention.  \\n\\n- **2017**: **Developing**  \\n  Market competition intensified, and monthly sales metrics were below targets. Avery implemented new strategies which required a steep learning curve.  \\n\\n- **2018**: **Exceeds Expectations**  \\n  Under Avery’s pivoted vision, Insurellm launched two new successful products that significantly increased market share.  \\n\\n- **2019**: **Meets Expectations**  \\n  Steady growth, however, some team tensions led to a minor drop in employee morale. Avery recognized the need to enhance company culture.  \\n\\n- **2020**: **Below Expectations**  \\n  The COVID-19 pandemic posed unforeseen operational difficulties. Avery faced criticism for delayed strategy shifts, although efforts were eventually made to stabilize the company.  \\n\\n- **2021**: **Exceptional**  \\n  Avery's decisive transition to remote work and rapid adoption of digital tools led to record-high customer satisfaction levels and increased sales.  \\n\\n- **2022**: **Satisfactory**  \\n  Avery focused on rebuilding team dynamics and addressing employee concerns, leading to overall improvement despite a saturated market.  \\n\\n- **2023**: **Exceeds Expectations**  \\n  Market leadership was regained with innovative approaches to personalized insurance solutions. Avery is now recognized in industry publications as a leading voice in Insurance Tech innovation.\\n\\n## Compensation History\\n- **2015**: $150,000 base salary + Significant equity stake  \\n- **2016**: $160,000 base salary + Equity increase  \\n- **2017**: $150,000 base salary + Decrease in bonus due to performance  \\n- **2018**: $180,000 base salary + performance bonus of $30,000  \\n- **2019**: $185,000 base salary + market adjustment + $5,000 bonus  \\n- **2020**: $170,000 base salary (temporary reduction due to COVID-19)  \\n- **2021**: $200,000 base salary + performance bonus of $50,000  \\n- **2022**: $210,000 base salary + retention bonus  \\n- **2023**: $225,000 base salary + $75,000 performance bonus  \\n\\n## Other HR Notes\\n- **Professional Development**: Avery has actively participated in leadership training programs and industry conferences, representing Insurellm and fostering partnerships.  \\n- **Diversity & Inclusion Initiatives**: Avery has championed a commitment to diversity in hiring practices, seeing visible improvements in team representation since 2021.  \\n- **Work-Life Balance**: Feedback revealed concerns regarding work-life balance, which Avery has approached by implementing flexible working conditions and ensuring regular check-ins with the team.\\n- **Community Engagement**: Avery led community outreach efforts, focusing on financial literacy programs, particularly aimed at underserved populations, improving Insurellm's corporate social responsibility image.  \\n\\nAvery Lancaster has demonstrated resilience and adaptability throughout her career at Insurellm, positioning the company as a key player in the insurance technology landscape.\"]"
      ]
     },
     "execution_count": 9,
     "metadata": {},
     "output_type": "execute_result"
    }
   ],
   "source": [
    "get_relevant_context(\"Who is lancaster?\")"
   ]
  },
  {
   "cell_type": "code",
   "execution_count": 10,
   "id": "d94c768d-c47a-4c34-85e9-7b786da96507",
   "metadata": {},
   "outputs": [
    {
     "data": {
      "text/plain": [
       "['# Product Summary\\n\\n# Carllm\\n\\n## Summary\\n\\nCarllm is an innovative auto insurance product developed by Insurellm, designed to streamline the way insurance companies offer coverage to their customers. Powered by cutting-edge artificial intelligence, Carllm utilizes advanced algorithms to deliver personalized auto insurance solutions, ensuring optimal coverage while minimizing costs. With a robust infrastructure that supports both B2B and B2C customers, Carllm redefines the auto insurance landscape and empowers insurance providers to enhance customer satisfaction and retention.\\n\\n## Features\\n\\n- **AI-Powered Risk Assessment**: Carllm leverages artificial intelligence to analyze driver behavior, vehicle conditions, and historical claims data. This enables insurers to make informed decisions and set competitive premiums that reflect true risk profiles.\\n\\n- **Instant Quoting**: With Carllm, insurance companies can offer near-instant quotes to customers, enhancing the customer experience. The AI engine processes data in real-time, drastically reducing the time it takes to generate quotes.\\n\\n- **Customizable Coverage Plans**: Carllm allows insurers to create flexible and tailored insurance packages based on individual customer needs. This customization improves customer engagement and retention.\\n\\n- **Fraud Detection**: The product incorporates advanced analytics to identify potentially fraudulent claims, significantly reducing the risk of losses for insurance providers.\\n\\n- **Customer Insights Dashboard**: Carllm provides insurers with a powerful dashboard that offers deep insights into customer behavior, claims patterns, and market trends, enabling informed decision-making and strategic planning.\\n\\n- **Mobile Integration**: Carllm is designed to work seamlessly with mobile applications, providing both insurers and end-users access to policy management and claims reporting on the go.\\n\\n- **Automated Customer Support**: Leveraging AI chatbots, Carllm offers 24/7 customer support, helping to resolve inquiries quickly and efficiently, thus improving customer satisfaction.\\n\\n## Pricing\\n\\nCarllm is offered under a subscription-based pricing model tailored to meet the needs of insurance companies of all sizes. Our pricing tiers are designed to provide maximum flexibility and value:\\n\\n- **Basic Tier**: $1,000/month\\n  - Ideal for small insurance firms.\\n  - Access to core features and standard reporting.\\n\\n- **Professional Tier**: $2,500/month\\n  - For medium-sized companies.\\n  - All Basic Tier features plus advanced analytics and fraud detection.\\n\\n- **Enterprise Tier**: $5,000/month\\n  - Customized solutions for large insurance firms.\\n  - Comprehensive support, full feature access, and integration with existing systems.\\n\\nContact our sales team for a personalized quote and discover how Carllm can transform your auto insurance offerings!\\n\\n## 2025-2026 Roadmap\\n\\nIn our commitment to continuous improvement and innovation, Insurellm has outlined the following roadmap for Carllm:\\n\\n### Q1 2025: Launch Feature Enhancements\\n- **Expanded data integrations** for better risk assessment.\\n- **Enhanced fraud detection algorithms** to reduce losses.\\n\\n### Q2 2025: Customer Experience Improvements\\n- Launch of a new **mobile app** for end-users.\\n- Introduction of **telematics-based pricing** to provide even more tailored coverage options.\\n\\n### Q3 2025: Global Expansion\\n- Begin pilot programs for international insurance markets.\\n- Collaborate with local insurers to offer compliant, localized versions of Carllm.\\n\\n### Q4 2025: AI and Machine Learning Upgrades\\n- Implement next-gen machine learning models for predictive analysis.\\n- Roll out customer insights dashboard updates based on user feedback.\\n\\n### 2026: Scaling and Partnerships\\n- Increase partnerships with automakers for integrated insurance solutions.\\n- Enhance the **AI customer support system** to include multi-language support.\\n\\nCarllm is not just an auto insurance product; it is a transformative tool for the insurance industry. Join us on this exciting journey as we redefine the future of auto insurance with technology and customer-centric solutions.']"
      ]
     },
     "execution_count": 10,
     "metadata": {},
     "output_type": "execute_result"
    }
   ],
   "source": [
    "get_relevant_context(\"Who is Avery and what is carllm?\")"
   ]
  },
  {
   "cell_type": "code",
   "execution_count": 11,
   "id": "5a7cef7f-f214-4bac-8217-3f9ab9ba1bf0",
   "metadata": {},
   "outputs": [],
   "source": [
    "def add_context(message):\n",
    "    relevant_context = get_relevant_context(message)\n",
    "    if relevant_context:\n",
    "        message += \"\\n\\nThe following additional context might be relevant in answering this question:\\n\\n\"\n",
    "        for relevant in relevant_context:\n",
    "            message += relevant + \"\\n\\n\"\n",
    "    return message"
   ]
  },
  {
   "cell_type": "code",
   "execution_count": 12,
   "id": "2b36399c-440b-4049-9d39-68d208283c71",
   "metadata": {},
   "outputs": [
    {
     "name": "stdout",
     "output_type": "stream",
     "text": [
      "Who is Alex Lancaster?\n",
      "\n",
      "The following additional context might be relevant in answering this question:\n",
      "\n",
      "# Avery Lancaster\n",
      "\n",
      "## Summary\n",
      "- **Date of Birth**: March 15, 1985  \n",
      "- **Job Title**: Co-Founder & Chief Executive Officer (CEO)  \n",
      "- **Location**: San Francisco, California  \n",
      "\n",
      "## Insurellm Career Progression\n",
      "- **2015 - Present**: Co-Founder & CEO  \n",
      "  Avery Lancaster co-founded Insurellm in 2015 and has since guided the company to its current position as a leading Insurance Tech provider. Avery is known for her innovative leadership strategies and risk management expertise that have catapulted the company into the mainstream insurance market.  \n",
      "\n",
      "- **2013 - 2015**: Senior Product Manager at Innovate Insurance Solutions  \n",
      "  Before launching Insurellm, Avery was a leading Senior Product Manager at Innovate Insurance Solutions, where she developed groundbreaking insurance products aimed at the tech sector.  \n",
      "\n",
      "- **2010 - 2013**: Business Analyst at Edge Analytics  \n",
      "  Prior to joining Innovate, Avery worked as a Business Analyst, focusing on market trends and consumer preferences in the insurance space. This position laid the groundwork for Avery’s future entrepreneurial endeavors.\n",
      "\n",
      "## Annual Performance History\n",
      "- **2015**: **Exceeds Expectations**  \n",
      "  Avery’s leadership during Insurellm's foundational year led to successful product launches and securing initial funding.  \n",
      "\n",
      "- **2016**: **Meets Expectations**  \n",
      "  Growth continued, though challenges arose in operational efficiency that required Avery's attention.  \n",
      "\n",
      "- **2017**: **Developing**  \n",
      "  Market competition intensified, and monthly sales metrics were below targets. Avery implemented new strategies which required a steep learning curve.  \n",
      "\n",
      "- **2018**: **Exceeds Expectations**  \n",
      "  Under Avery’s pivoted vision, Insurellm launched two new successful products that significantly increased market share.  \n",
      "\n",
      "- **2019**: **Meets Expectations**  \n",
      "  Steady growth, however, some team tensions led to a minor drop in employee morale. Avery recognized the need to enhance company culture.  \n",
      "\n",
      "- **2020**: **Below Expectations**  \n",
      "  The COVID-19 pandemic posed unforeseen operational difficulties. Avery faced criticism for delayed strategy shifts, although efforts were eventually made to stabilize the company.  \n",
      "\n",
      "- **2021**: **Exceptional**  \n",
      "  Avery's decisive transition to remote work and rapid adoption of digital tools led to record-high customer satisfaction levels and increased sales.  \n",
      "\n",
      "- **2022**: **Satisfactory**  \n",
      "  Avery focused on rebuilding team dynamics and addressing employee concerns, leading to overall improvement despite a saturated market.  \n",
      "\n",
      "- **2023**: **Exceeds Expectations**  \n",
      "  Market leadership was regained with innovative approaches to personalized insurance solutions. Avery is now recognized in industry publications as a leading voice in Insurance Tech innovation.\n",
      "\n",
      "## Compensation History\n",
      "- **2015**: $150,000 base salary + Significant equity stake  \n",
      "- **2016**: $160,000 base salary + Equity increase  \n",
      "- **2017**: $150,000 base salary + Decrease in bonus due to performance  \n",
      "- **2018**: $180,000 base salary + performance bonus of $30,000  \n",
      "- **2019**: $185,000 base salary + market adjustment + $5,000 bonus  \n",
      "- **2020**: $170,000 base salary (temporary reduction due to COVID-19)  \n",
      "- **2021**: $200,000 base salary + performance bonus of $50,000  \n",
      "- **2022**: $210,000 base salary + retention bonus  \n",
      "- **2023**: $225,000 base salary + $75,000 performance bonus  \n",
      "\n",
      "## Other HR Notes\n",
      "- **Professional Development**: Avery has actively participated in leadership training programs and industry conferences, representing Insurellm and fostering partnerships.  \n",
      "- **Diversity & Inclusion Initiatives**: Avery has championed a commitment to diversity in hiring practices, seeing visible improvements in team representation since 2021.  \n",
      "- **Work-Life Balance**: Feedback revealed concerns regarding work-life balance, which Avery has approached by implementing flexible working conditions and ensuring regular check-ins with the team.\n",
      "- **Community Engagement**: Avery led community outreach efforts, focusing on financial literacy programs, particularly aimed at underserved populations, improving Insurellm's corporate social responsibility image.  \n",
      "\n",
      "Avery Lancaster has demonstrated resilience and adaptability throughout her career at Insurellm, positioning the company as a key player in the insurance technology landscape.\n",
      "\n",
      "\n"
     ]
    }
   ],
   "source": [
    "print(add_context(\"Who is Alex Lancaster?\"))"
   ]
  },
  {
   "cell_type": "code",
   "execution_count": 36,
   "id": "968e7bf2-e862-4679-a11f-6c1efb6ec8ca",
   "metadata": {},
   "outputs": [
    {
     "data": {
      "text/plain": [
       "'Avery Lancaster is the Co-Founder and CEO of Insurellm.\\n'"
      ]
     },
     "execution_count": 36,
     "metadata": {},
     "output_type": "execute_result"
    }
   ],
   "source": [
    "# Replacing with gem\n",
    "# def chat(message, history):\n",
    "#     messages = [{\"role\": \"system\", \"content\": system_message}] + history\n",
    "#     message = add_context(message)\n",
    "#     messages.append({\"role\": \"user\", \"content\": message})\n",
    "\n",
    "#     stream = openai.chat.completions.create(model=MODEL, messages=messages, stream=True)\n",
    "\n",
    "#     response = \"\"\n",
    "#     for chunk in stream:\n",
    "#         response += chunk.choices[0].delta.content or ''\n",
    "#         yield response\n",
    "\n",
    "# ----- Gem replacement of above\n",
    "def chat(message):\n",
    "    #messages = [{\"role\": \"user\", \"content\": system_message}] + history\n",
    "    #messages = [{\"role\": \"user\", \"content\": system_message}]\n",
    "    #message = system_message\n",
    "    message = system_message + add_context(message)\n",
    "    #messages.append({\"role\": \"user\", \"content\": message})\n",
    "\n",
    "    response = chat_session.send_message(message)\n",
    "    #print(response.text)\n",
    "    return(response.text)\n",
    "message = \"who is Avery Lancaster?\"\n",
    "chat(message)"
   ]
  },
  {
   "cell_type": "markdown",
   "id": "bbbcb659-13ce-47ab-8a5e-01b930494964",
   "metadata": {},
   "source": [
    "## Now we will bring this up in Gradio using the Chat interface -\n",
    "\n",
    "A quick and easy way to prototype a chat with an LLM"
   ]
  },
  {
   "cell_type": "code",
   "execution_count": null,
   "id": "c3536590-85c7-4155-bd87-ae78a1467670",
   "metadata": {},
   "outputs": [
    {
     "name": "stdout",
     "output_type": "stream",
     "text": [
      "* Running on local URL:  http://127.0.0.1:7869\n",
      "\n",
      "To create a public link, set `share=True` in `launch()`.\n"
     ]
    },
    {
     "data": {
      "text/html": [
       "<div><iframe src=\"http://127.0.0.1:7869/\" width=\"100%\" height=\"500\" allow=\"autoplay; camera; microphone; clipboard-read; clipboard-write;\" frameborder=\"0\" allowfullscreen></iframe></div>"
      ],
      "text/plain": [
       "<IPython.core.display.HTML object>"
      ]
     },
     "metadata": {},
     "output_type": "display_data"
    },
    {
     "data": {
      "text/plain": []
     },
     "execution_count": 37,
     "metadata": {},
     "output_type": "execute_result"
    }
   ],
   "source": [
    "#view = gr.ChatInterface(chat, type=\"messages\").launch() # Org code\n",
    "gr.Interface(fn=chat, inputs=\"textbox\", outputs=\"textbox\").launch() # My code as org not working\n"
   ]
  },
  {
   "cell_type": "code",
   "execution_count": null,
   "id": "a2c7e9af",
   "metadata": {},
   "outputs": [],
   "source": []
  },
  {
   "cell_type": "code",
   "execution_count": null,
   "id": "9c7903ce",
   "metadata": {},
   "outputs": [],
   "source": []
  },
  {
   "cell_type": "code",
   "execution_count": null,
   "id": "0f21d620",
   "metadata": {},
   "outputs": [],
   "source": [
    "# Experimneting with mesop"
   ]
  },
  {
   "cell_type": "code",
   "execution_count": 17,
   "id": "9a032332",
   "metadata": {},
   "outputs": [
    {
     "name": "stdout",
     "output_type": "stream",
     "text": [
      "Collecting mesopNote: you may need to restart the kernel to use updated packages.\n",
      "\n",
      "  Downloading mesop-0.14.1-py3-none-any.whl.metadata (1.0 kB)\n",
      "Collecting absl-py (from mesop)\n",
      "  Downloading absl_py-2.1.0-py3-none-any.whl.metadata (2.3 kB)\n",
      "Collecting deepdiff==6.* (from mesop)\n",
      "  Downloading deepdiff-6.7.1-py3-none-any.whl.metadata (6.1 kB)\n",
      "Requirement already satisfied: flask in c:\\users\\tim_s\\desktop\\bt\\aieng\\llm_engineering\\.venv\\lib\\site-packages (from mesop) (3.0.3)\n",
      "Collecting msgpack (from mesop)\n",
      "  Downloading msgpack-1.1.0-cp312-cp312-win_amd64.whl.metadata (8.6 kB)\n",
      "Requirement already satisfied: protobuf in c:\\users\\tim_s\\desktop\\bt\\aieng\\llm_engineering\\.venv\\lib\\site-packages (from mesop) (5.29.2)\n",
      "Requirement already satisfied: pydantic in c:\\users\\tim_s\\desktop\\bt\\aieng\\llm_engineering\\.venv\\lib\\site-packages (from mesop) (2.9.2)\n",
      "Requirement already satisfied: python-dotenv in c:\\users\\tim_s\\desktop\\bt\\aieng\\llm_engineering\\.venv\\lib\\site-packages (from mesop) (1.0.1)\n",
      "Collecting watchdog (from mesop)\n",
      "  Downloading watchdog-6.0.0-py3-none-win_amd64.whl.metadata (44 kB)\n",
      "Requirement already satisfied: werkzeug>=3.0.6 in c:\\users\\tim_s\\desktop\\bt\\aieng\\llm_engineering\\.venv\\lib\\site-packages (from mesop) (3.0.6)\n",
      "Collecting ordered-set<4.2.0,>=4.0.2 (from deepdiff==6.*->mesop)\n",
      "  Downloading ordered_set-4.1.0-py3-none-any.whl.metadata (5.3 kB)\n",
      "Requirement already satisfied: MarkupSafe>=2.1.1 in c:\\users\\tim_s\\desktop\\bt\\aieng\\llm_engineering\\.venv\\lib\\site-packages (from werkzeug>=3.0.6->mesop) (2.1.5)\n",
      "Requirement already satisfied: Jinja2>=3.1.2 in c:\\users\\tim_s\\desktop\\bt\\aieng\\llm_engineering\\.venv\\lib\\site-packages (from flask->mesop) (3.1.5)\n",
      "Requirement already satisfied: itsdangerous>=2.1.2 in c:\\users\\tim_s\\desktop\\bt\\aieng\\llm_engineering\\.venv\\lib\\site-packages (from flask->mesop) (2.2.0)\n",
      "Requirement already satisfied: click>=8.1.3 in c:\\users\\tim_s\\desktop\\bt\\aieng\\llm_engineering\\.venv\\lib\\site-packages (from flask->mesop) (8.1.8)\n",
      "Requirement already satisfied: blinker>=1.6.2 in c:\\users\\tim_s\\desktop\\bt\\aieng\\llm_engineering\\.venv\\lib\\site-packages (from flask->mesop) (1.9.0)\n",
      "Requirement already satisfied: annotated-types>=0.6.0 in c:\\users\\tim_s\\desktop\\bt\\aieng\\llm_engineering\\.venv\\lib\\site-packages (from pydantic->mesop) (0.7.0)\n",
      "Requirement already satisfied: pydantic-core==2.23.4 in c:\\users\\tim_s\\desktop\\bt\\aieng\\llm_engineering\\.venv\\lib\\site-packages (from pydantic->mesop) (2.23.4)\n",
      "Requirement already satisfied: typing-extensions>=4.6.1 in c:\\users\\tim_s\\desktop\\bt\\aieng\\llm_engineering\\.venv\\lib\\site-packages (from pydantic->mesop) (4.12.2)\n",
      "Requirement already satisfied: colorama in c:\\users\\tim_s\\desktop\\bt\\aieng\\llm_engineering\\.venv\\lib\\site-packages (from click>=8.1.3->flask->mesop) (0.4.6)\n",
      "Downloading mesop-0.14.1-py3-none-any.whl (7.4 MB)\n",
      "   ---------------------------------------- 0.0/7.4 MB ? eta -:--:--\n",
      "   ----- ---------------------------------- 1.0/7.4 MB 7.2 MB/s eta 0:00:01\n",
      "   ----------- ---------------------------- 2.1/7.4 MB 5.1 MB/s eta 0:00:02\n",
      "   --------------- ------------------------ 2.9/7.4 MB 4.3 MB/s eta 0:00:02\n",
      "   ----------------- ---------------------- 3.1/7.4 MB 4.5 MB/s eta 0:00:01\n",
      "   ----------------- ---------------------- 3.1/7.4 MB 4.5 MB/s eta 0:00:01\n",
      "   ----------------- ---------------------- 3.1/7.4 MB 4.5 MB/s eta 0:00:01\n",
      "   ----------------- ---------------------- 3.1/7.4 MB 4.5 MB/s eta 0:00:01\n",
      "   ----------------- ---------------------- 3.1/7.4 MB 4.5 MB/s eta 0:00:01\n",
      "   ---------------------- ----------------- 4.2/7.4 MB 2.1 MB/s eta 0:00:02\n",
      "   -------------------------- ------------- 5.0/7.4 MB 2.3 MB/s eta 0:00:02\n",
      "   ----------------------------- ---------- 5.5/7.4 MB 2.2 MB/s eta 0:00:01\n",
      "   ---------------------------------- ----- 6.3/7.4 MB 2.5 MB/s eta 0:00:01\n",
      "   ---------------------------------------  7.3/7.4 MB 2.6 MB/s eta 0:00:01\n",
      "   ---------------------------------------- 7.4/7.4 MB 2.4 MB/s eta 0:00:00\n",
      "Downloading deepdiff-6.7.1-py3-none-any.whl (76 kB)\n",
      "Downloading absl_py-2.1.0-py3-none-any.whl (133 kB)\n",
      "Downloading msgpack-1.1.0-cp312-cp312-win_amd64.whl (75 kB)\n",
      "Downloading watchdog-6.0.0-py3-none-win_amd64.whl (79 kB)\n",
      "Downloading ordered_set-4.1.0-py3-none-any.whl (7.6 kB)\n",
      "Installing collected packages: watchdog, ordered-set, msgpack, absl-py, deepdiff, mesop\n",
      "Successfully installed absl-py-2.1.0 deepdiff-6.7.1 mesop-0.14.1 msgpack-1.1.0 ordered-set-4.1.0 watchdog-6.0.0\n"
     ]
    }
   ],
   "source": [
    "pip install mesop"
   ]
  },
  {
   "cell_type": "code",
   "execution_count": 18,
   "id": "48873d11-2fbd-4329-af27-46c781788561",
   "metadata": {},
   "outputs": [],
   "source": [
    "import mesop as me\n",
    "import mesop.labs as mel\n",
    "\n",
    "@me.page(path=\"/chat\", title=\"Chat Interface\")\n",
    "def page():\n",
    "    mel.chat(chat, title=\"Chat Interface\")\n",
    "\n",
    "def chat(input: str, history: list[mel.ChatMessage]):\n",
    "    # Your chat logic here\n",
    "    return \"Your response here\""
   ]
  },
  {
   "cell_type": "code",
   "execution_count": 19,
   "id": "846e07c3",
   "metadata": {},
   "outputs": [],
   "source": [
    "import time\n",
    "\n",
    "import mesop as me\n",
    "\n",
    "\n",
    "@me.stateclass\n",
    "class State:\n",
    "  input: str\n",
    "  output: str\n",
    "  in_progress: bool\n",
    "\n",
    "\n",
    "@me.page(path=\"/starter_kit\")\n",
    "def page():\n",
    "  with me.box(\n",
    "    style=me.Style(\n",
    "      background=\"#fff\",\n",
    "      min_height=\"calc(100% - 48px)\",\n",
    "      padding=me.Padding(bottom=16),\n",
    "    )\n",
    "  ):\n",
    "    with me.box(\n",
    "      style=me.Style(\n",
    "        width=\"min(720px, 100%)\",\n",
    "        margin=me.Margin.symmetric(horizontal=\"auto\"),\n",
    "        padding=me.Padding.symmetric(\n",
    "          horizontal=16,\n",
    "        ),\n",
    "      )\n",
    "    ):\n",
    "      header_text()\n",
    "      example_row()\n",
    "      chat_input()\n",
    "      output()\n",
    "  footer()\n",
    "\n",
    "\n",
    "def header_text():\n",
    "  with me.box(\n",
    "    style=me.Style(\n",
    "      padding=me.Padding(\n",
    "        top=64,\n",
    "        bottom=36,\n",
    "      ),\n",
    "    )\n",
    "  ):\n",
    "    me.text(\n",
    "      \"Mesop Starter Kit\",\n",
    "      style=me.Style(\n",
    "        font_size=36,\n",
    "        font_weight=700,\n",
    "        background=\"linear-gradient(90deg, #4285F4, #AA5CDB, #DB4437) text\",\n",
    "        color=\"transparent\",\n",
    "      ),\n",
    "    )\n",
    "\n",
    "\n",
    "EXAMPLES = [\n",
    "  \"How to tie a shoe\",\n",
    "  \"Make a brownie recipe\",\n",
    "  \"Write an email asking for a sick day off\",\n",
    "]\n",
    "\n",
    "\n",
    "def example_row():\n",
    "  is_mobile = me.viewport_size().width < 640\n",
    "  with me.box(\n",
    "    style=me.Style(\n",
    "      display=\"flex\",\n",
    "      flex_direction=\"column\" if is_mobile else \"row\",\n",
    "      gap=24,\n",
    "      margin=me.Margin(bottom=36),\n",
    "    )\n",
    "  ):\n",
    "    for example in EXAMPLES:\n",
    "      example_box(example, is_mobile)\n",
    "\n",
    "\n",
    "def example_box(example: str, is_mobile: bool):\n",
    "  with me.box(\n",
    "    style=me.Style(\n",
    "      width=\"100%\" if is_mobile else 200,\n",
    "      height=140,\n",
    "      background=\"#F0F4F9\",\n",
    "      padding=me.Padding.all(16),\n",
    "      font_weight=500,\n",
    "      line_height=\"1.5\",\n",
    "      border_radius=16,\n",
    "      cursor=\"pointer\",\n",
    "    ),\n",
    "    key=example,\n",
    "    on_click=click_example_box,\n",
    "  ):\n",
    "    me.text(example)\n",
    "\n",
    "\n",
    "def click_example_box(e: me.ClickEvent):\n",
    "  state = me.state(State)\n",
    "  state.input = e.key\n",
    "\n",
    "\n",
    "def chat_input():\n",
    "  state = me.state(State)\n",
    "  with me.box(\n",
    "    style=me.Style(\n",
    "      padding=me.Padding.all(8),\n",
    "      background=\"white\",\n",
    "      display=\"flex\",\n",
    "      width=\"100%\",\n",
    "      border=me.Border.all(\n",
    "        me.BorderSide(width=0, style=\"solid\", color=\"black\")\n",
    "      ),\n",
    "      border_radius=12,\n",
    "      box_shadow=\"0 10px 20px #0000000a, 0 2px 6px #0000000a, 0 0 1px #0000000a\",\n",
    "    )\n",
    "  ):\n",
    "    with me.box(\n",
    "      style=me.Style(\n",
    "        flex_grow=1,\n",
    "      )\n",
    "    ):\n",
    "      me.native_textarea(\n",
    "        value=state.input,\n",
    "        autosize=True,\n",
    "        min_rows=4,\n",
    "        placeholder=\"Enter your prompt\",\n",
    "        style=me.Style(\n",
    "          padding=me.Padding(top=16, left=16),\n",
    "          background=\"white\",\n",
    "          outline=\"none\",\n",
    "          width=\"100%\",\n",
    "          overflow_y=\"auto\",\n",
    "          border=me.Border.all(\n",
    "            me.BorderSide(style=\"none\"),\n",
    "          ),\n",
    "        ),\n",
    "        on_blur=textarea_on_blur,\n",
    "      )\n",
    "    with me.content_button(type=\"icon\", on_click=click_send):\n",
    "      me.icon(\"send\")\n",
    "\n",
    "\n",
    "def textarea_on_blur(e: me.InputBlurEvent):\n",
    "  state = me.state(State)\n",
    "  state.input = e.value\n",
    "\n",
    "\n",
    "def click_send(e: me.ClickEvent):\n",
    "  state = me.state(State)\n",
    "  if not state.input:\n",
    "    return\n",
    "  state.in_progress = True\n",
    "  input = state.input\n",
    "  state.input = \"\"\n",
    "  yield\n",
    "\n",
    "  for chunk in call_api(input):\n",
    "    state.output += chunk\n",
    "    yield\n",
    "  state.in_progress = False\n",
    "  yield\n",
    "\n",
    "\n",
    "def call_api(input):\n",
    "  # Replace this with an actual API call\n",
    "  time.sleep(0.5)\n",
    "  yield \"Example of streaming an output\"\n",
    "  time.sleep(1)\n",
    "  yield \"\\n\\nOutput: \" + input\n",
    "\n",
    "\n",
    "def output():\n",
    "  state = me.state(State)\n",
    "  if state.output or state.in_progress:\n",
    "    with me.box(\n",
    "      style=me.Style(\n",
    "        background=\"#F0F4F9\",\n",
    "        padding=me.Padding.all(16),\n",
    "        border_radius=16,\n",
    "        margin=me.Margin(top=36),\n",
    "      )\n",
    "    ):\n",
    "      if state.output:\n",
    "        me.markdown(state.output)\n",
    "      if state.in_progress:\n",
    "        with me.box(style=me.Style(margin=me.Margin(top=16))):\n",
    "          me.progress_spinner()\n",
    "\n",
    "\n",
    "def footer():\n",
    "  with me.box(\n",
    "    style=me.Style(\n",
    "      position=\"sticky\",\n",
    "      bottom=0,\n",
    "      padding=me.Padding.symmetric(vertical=16, horizontal=16),\n",
    "      width=\"100%\",\n",
    "      background=\"#F0F4F9\",\n",
    "      font_size=14,\n",
    "    )\n",
    "  ):\n",
    "    me.html(\n",
    "      \"Made with <a href='https://google.github.io/mesop/'>Mesop</a>\",\n",
    "    )"
   ]
  },
  {
   "cell_type": "code",
   "execution_count": null,
   "id": "c8a8247b",
   "metadata": {},
   "outputs": [],
   "source": []
  }
 ],
 "metadata": {
  "kernelspec": {
   "display_name": ".venv",
   "language": "python",
   "name": "python3"
  },
  "language_info": {
   "codemirror_mode": {
    "name": "ipython",
    "version": 3
   },
   "file_extension": ".py",
   "mimetype": "text/x-python",
   "name": "python",
   "nbconvert_exporter": "python",
   "pygments_lexer": "ipython3",
   "version": "3.12.8"
  }
 },
 "nbformat": 4,
 "nbformat_minor": 5
}
