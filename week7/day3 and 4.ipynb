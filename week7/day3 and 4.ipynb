{
 "cells": [
  {
   "cell_type": "code",
   "execution_count": null,
   "id": "0eff4398",
   "metadata": {
    "vscode": {
     "languageId": "plaintext"
    }
   },
   "outputs": [],
   "source": [
    "# Date: 27.01.25\n",
    "# Note: Working through the code in Collab.\n",
    "# Added note to below that is needed in Collab"
   ]
  },
  {
   "cell_type": "markdown",
   "id": "c25e5705-7078-4d4a-9fa2-8aaa528ffced",
   "metadata": {},
   "source": [
    "# Week 7 Days 3 and 4\n",
    "\n",
    "Fine-tune an open-source model to Predict Product Prices\n",
    "\n",
    "Please see this notebook in Google Colab:\n",
    "\n",
    "https://colab.research.google.com/drive/1csEdaECRtjV_1p9zMkaKKjCpYnltlN3M?usp=sharing"
   ]
  },
  {
   "cell_type": "code",
   "execution_count": null,
   "id": "f244e177",
   "metadata": {
    "vscode": {
     "languageId": "plaintext"
    }
   },
   "outputs": [],
   "source": [
    "HF_USER = \"timbosssds\" # your HF name here!\n",
    "\n",
    "# Data\n",
    "\n",
    "DATASET_NAME = f\"{HF_USER}/lite-data\""
   ]
  },
  {
   "cell_type": "code",
   "execution_count": null,
   "id": "1d9f5b05",
   "metadata": {
    "vscode": {
     "languageId": "plaintext"
    }
   },
   "outputs": [],
   "source": [
    "\n",
    "# To make this work in Collab (using the smaller data set);\n",
    "# 1.0 Complete the lite file and have data pushed to hugging face\n",
    "# 2.0 Change other variables as per code (i.e below)\n",
    "\n",
    "HF_USER = \"timbosssds\"\n",
    "DATASET_NAME = f\"{HF_USER}/lite-data\" \n",
    "\n",
    "3.0 Dial back the Epochs (set from 3 to 1) * Batch size (from 16 to 1 or around that)\n",
    "4.0 Trianing job kicked off then, but i run out of compuete time before it completes, \n",
    "Fortunately it saves models as it goes so i got a few models. in hf models."
   ]
  }
 ],
 "metadata": {
  "kernelspec": {
   "display_name": "Python 3 (ipykernel)",
   "language": "python",
   "name": "python3"
  },
  "language_info": {
   "codemirror_mode": {
    "name": "ipython",
    "version": 3
   },
   "file_extension": ".py",
   "mimetype": "text/x-python",
   "name": "python",
   "nbconvert_exporter": "python",
   "pygments_lexer": "ipython3",
   "version": "3.11.10"
  }
 },
 "nbformat": 4,
 "nbformat_minor": 5
}
