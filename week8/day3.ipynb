{
 "cells": [
  {
   "cell_type": "code",
   "execution_count": null,
   "id": "ca1c8a92",
   "metadata": {},
   "outputs": [],
   "source": [
    "# Date: 06.02.25\n",
    "# Note: Got it working (swapping out GPT for Gem), with the exception of using \n",
    "# 'DealSelection' (which formats the response)"
   ]
  },
  {
   "cell_type": "markdown",
   "id": "0df0d850-49eb-4a0b-a27a-146969db710d",
   "metadata": {},
   "source": [
    "# The Price is Right\n",
    "\n",
    "Today we'll build another piece of the puzzle: a ScanningAgent that looks for promising deals by subscribing to RSS feeds."
   ]
  },
  {
   "cell_type": "code",
   "execution_count": 1,
   "id": "043cf849",
   "metadata": {},
   "outputs": [
    {
     "name": "stdout",
     "output_type": "stream",
     "text": [
      "working?\n"
     ]
    }
   ],
   "source": [
    "print('working?')"
   ]
  },
  {
   "cell_type": "code",
   "execution_count": 2,
   "id": "d3763a79-8a5a-4300-8de4-93e85475af10",
   "metadata": {},
   "outputs": [],
   "source": [
    "# imports\n",
    "\n",
    "import os\n",
    "import json\n",
    "from dotenv import load_dotenv\n",
    "from openai import OpenAI\n",
    "from agents.deals import ScrapedDeal, DealSelection"
   ]
  },
  {
   "cell_type": "code",
   "execution_count": 3,
   "id": "c6469e32-16c3-4443-9475-ade710ef6933",
   "metadata": {},
   "outputs": [],
   "source": [
    "# Initialize and constants\n",
    "\n",
    "load_dotenv()\n",
    "#os.environ['OPENAI_API_KEY'] = os.getenv('OPENAI_API_KEY', 'your-key-if-not-using-env')\n",
    "MODEL = 'gpt-4o-mini'\n",
    "openai = OpenAI()"
   ]
  },
  {
   "cell_type": "code",
   "execution_count": 5,
   "id": "5544acf0",
   "metadata": {},
   "outputs": [
    {
     "name": "stdout",
     "output_type": "stream",
     "text": [
      "There might be a problem with your API key? Please visit the troubleshooting notebook!\n",
      "Understood.  I'm ready for your test. Please proceed.\n",
      "\n"
     ]
    }
   ],
   "source": [
    "# Initialize and constants\n",
    "\n",
    "load_dotenv(override=True)\n",
    "api_key = os.getenv('OPENAI_API_KEY')\n",
    "\n",
    "if api_key and api_key.startswith('sk-proj-') and len(api_key)>10:\n",
    "    print(\"API key looks good so far\")\n",
    "else:\n",
    "    print(\"There might be a problem with your API key? Please visit the troubleshooting notebook!\")\n",
    "    \n",
    "# MODEL = 'gpt-4o-mini'\n",
    "# openai = OpenAI()\n",
    "\n",
    "# ----- Replacing with Gem code -----\n",
    "import os\n",
    "import google.generativeai as genai\n",
    "\n",
    "genai.configure(api_key= api_key)\n",
    "\n",
    "# Create the model\n",
    "generation_config = {\n",
    "  \"temperature\": 1,\n",
    "  \"top_p\": 0.95,\n",
    "  \"top_k\": 40,\n",
    "  \"max_output_tokens\": 8192,\n",
    "  \"response_mime_type\": \"text/plain\",\n",
    "  #\"response_mime_type\": \"application/json\",\n",
    "  #\"response_mime_type\": DealSelection,\n",
    "\n",
    "}\n",
    "\n",
    "model = genai.GenerativeModel(model_name=\"gemini-1.5-flash\",\n",
    "  generation_config=generation_config,)\n",
    "\n",
    "chat_session = model.start_chat(\n",
    "  history=[  ])\n",
    "\n",
    "message = \"this is a test only\"\n",
    "response = chat_session.send_message(message)\n",
    "print(response.text)"
   ]
  },
  {
   "cell_type": "code",
   "execution_count": 3,
   "id": "afece9db-8cd4-46be-ac57-0b472e84da7d",
   "metadata": {},
   "outputs": [
    {
     "name": "stderr",
     "output_type": "stream",
     "text": [
      " 20%|██        | 1/5 [01:20<05:20, 80.08s/it]c:\\Users\\Tim_S\\Desktop\\bt\\AIEng\\llm_engineering\\week8\\agents\\deals.py:27: MarkupResemblesLocatorWarning: The input looks more like a filename than markup. You may want to open this file and pass the filehandle into Beautiful Soup.\n",
      "  description = BeautifulSoup(description, 'html.parser').get_text()\n",
      "100%|██████████| 5/5 [07:26<00:00, 89.25s/it]\n"
     ]
    }
   ],
   "source": [
    "deals = ScrapedDeal.fetch(show_progress=True)"
   ]
  },
  {
   "cell_type": "code",
   "execution_count": 4,
   "id": "8cd15c4d-eb44-4601-bf0c-f945c1d8e3ec",
   "metadata": {},
   "outputs": [
    {
     "ename": "NameError",
     "evalue": "name 'deals' is not defined",
     "output_type": "error",
     "traceback": [
      "\u001b[1;31m---------------------------------------------------------------------------\u001b[0m",
      "\u001b[1;31mNameError\u001b[0m                                 Traceback (most recent call last)",
      "Cell \u001b[1;32mIn[4], line 1\u001b[0m\n\u001b[1;32m----> 1\u001b[0m \u001b[38;5;28mlen\u001b[39m(\u001b[43mdeals\u001b[49m)\n",
      "\u001b[1;31mNameError\u001b[0m: name 'deals' is not defined"
     ]
    }
   ],
   "source": [
    "len(deals)"
   ]
  },
  {
   "cell_type": "code",
   "execution_count": 5,
   "id": "4259f30a-6455-49ed-8863-2f9ddd4776cb",
   "metadata": {},
   "outputs": [
    {
     "data": {
      "text/plain": [
       "\"Title: Shelves and Shelving Deals at Lowe's: Up to 25% off + free shipping w/ $35\\nDetails: We've pictured the Outopee 5-Tier Freestanding Shelving Unit for $118 ($30 off). Choose in-store pickup to dodge the $5.99 shipping fee, or get free shipping with orders of $35 or more by signing up to MyLowe's Rewards. (It's free to join.) Shop Now at Lowe's\\nFeatures: \\nURL: https://www.dealnews.com/Shelves-and-Shelving-Deals-at-Lowes-Up-to-25-off-free-shipping-w-35/21716861.html?iref=rss-c196\""
      ]
     },
     "execution_count": 5,
     "metadata": {},
     "output_type": "execute_result"
    }
   ],
   "source": [
    "deals[44].describe()"
   ]
  },
  {
   "cell_type": "code",
   "execution_count": 6,
   "id": "8100e5ac-38f5-40c1-a712-08ae12c85038",
   "metadata": {},
   "outputs": [],
   "source": [
    "system_prompt = \"\"\"You identify and summarize the 5 most detailed deals from a list, by selecting deals that have the most detailed, high quality description and the most clear price.\n",
    "Respond strictly in JSON with no explanation, using this format. You should provide the price as a number derived from the description. If the price of a deal isn't clear, do not include that deal in your response.\n",
    "Most important is that you respond with the 5 deals that have the most detailed product description with price. It's not important to mention the terms of the deal; most important is a thorough description of the product.\n",
    "Be careful with products that are described as \"$XXX off\" or \"reduced by $XXX\" - this isn't the actual price of the product. Only respond with products when you are highly confident about the price. \n",
    "\n",
    "{\"deals\": [\n",
    "    {\n",
    "        \"product_description\": \"Your clearly expressed summary of the product in 4-5 sentences. Details of the item are much more important than why it's a good deal. Avoid mentioning discounts and coupons; focus on the item itself. There should be a paragpraph of text for each item you choose.\",\n",
    "        \"price\": 99.99,\n",
    "        \"url\": \"the url as provided\"\n",
    "    },\n",
    "    ...\n",
    "]}\"\"\""
   ]
  },
  {
   "cell_type": "code",
   "execution_count": 7,
   "id": "f4bca170-af71-40c9-9597-1d72980c74d8",
   "metadata": {},
   "outputs": [],
   "source": [
    "user_prompt = \"\"\"Respond with the most promising 5 deals from this list, selecting those which have the most detailed, high quality product description and a clear price.\n",
    "Respond strictly in JSON, and only JSON. You should rephrase the description to be a summary of the product itself, not the terms of the deal.\n",
    "Remember to respond with a paragraph of text in the product_description field for each of the 5 items that you select.\n",
    "Be careful with products that are described as \"$XXX off\" or \"reduced by $XXX\" - this isn't the actual price of the product. Only respond with products when you are highly confident about the price. \n",
    "\n",
    "Deals:\n",
    "\n",
    "\"\"\"\n",
    "user_prompt += '\\n\\n'.join([deal.describe() for deal in deals])"
   ]
  },
  {
   "cell_type": "code",
   "execution_count": 8,
   "id": "020947a6-561b-417b-98a0-a085e31d2ce3",
   "metadata": {},
   "outputs": [
    {
     "name": "stdout",
     "output_type": "stream",
     "text": [
      "Respond with the most promising 5 deals from this list, selecting those which have the most detailed, high quality product description and a clear price.\n",
      "Respond strictly in JSON, and only JSON. You should rephrase the description to be a summary of the product itself, not the terms of the deal.\n",
      "Remember to respond with a paragraph of text in the product_description field for each of the 5 items that you select.\n",
      "Be careful with products that are described as \"$XXX off\" or \"reduced by $XXX\" - this isn't the actual price of the product. Only respond with products when you are highly confident about the price. \n",
      "\n",
      "Deals:\n",
      "\n",
      "Title: Jackery Explorer 3000 Pro 3,024Wh Portable Power Station + 100W Solar Panel 2-Pack for $1,600 + free shipping\n",
      "Details: That's $899 off list. Buy Now at Costco\n",
      "Features: Vast 3024wh Battery Capacity, 3000-watt/6000-watt AC Output  Super Fast 2.4 hours to Fully Charged with Wall Outlet AC Charging  Portable Design with Pull-Out Rod and Two Wheels, Moving It Around Easily  Including Two IP68 Waterproof 100w Solar Panels, Recharging Through Clean Solar Power  Power for Large Appliances up to 3000-watt Such as Air Conditioners, Power Tools, Microwave, Oven, Electric Grill, Space Heaters and More.\n",
      "URL: https://www.dealnews.com/Jackery-Explorer-3000-Pro-3-024-Wh-Portable-Power-Station-100-W-Solar-Panel-2-Pack-for-1-600-free-shipping/21716827.html?iref=rss-c142\n",
      "\n",
      "Title: Soundcore by Anker Valentine's Day Sale: Up to 33% off + free shipping\n",
      "Details: There are a few ways to save on headphones, earbuds, and portable speakers here. The dollar-off deals at the top of the page each have a unique coupon code assoiciated with them — you'll need to apply that to save. If you scroll down further, you'll find a number of \"buy one, get one 50% off\" offers. Below that, there are several items that come with free gifts, ranging in value from $13 to $70. Shop Now at Soundcore\n",
      "Features: \n",
      "URL: https://www.dealnews.com/Soundcore-by-Anker-Valentines-Day-Sale-Up-to-33-off-fr\n"
     ]
    }
   ],
   "source": [
    "print(user_prompt[:2000])"
   ]
  },
  {
   "cell_type": "code",
   "execution_count": 9,
   "id": "8d87298c",
   "metadata": {},
   "outputs": [
    {
     "name": "stdout",
     "output_type": "stream",
     "text": [
      "You identify and summarize the 5 most detailed deals from a list, by selecting deals that have the most detailed, high quality description and the most clear price.\n",
      "Respond strictly in JSON with no explanation, using this format. You should provide the price as a number derived from the description. If the price of a deal isn't clear, do not include that deal in your response.\n",
      "Most important is that you respond with the 5 deals that have the most detailed product description with price. It's not important to mention the terms of the deal; most important is a thorough description of the product.\n",
      "Be careful with products that are described as \"$XXX off\" or \"reduced by $XXX\" - this isn't the actual price of the product. Only respond with products when you are highly confident about the price. \n",
      "\n",
      "{\"deals\": [\n",
      "    {\n",
      "        \"product_description\": \"Your clearly expressed summary of the product in 4-5 sentences. Details of the item are much more important than why it's a good deal. Avoid mentioning discounts and coupons; focus on the item itself. There should be a paragpraph of text for each item you choose.\",\n",
      "        \"price\": 99.99,\n",
      "        \"url\": \"the url as provided\"\n",
      "    },\n",
      "    ...\n",
      "]}Respond with the most promising 5 deals from this list, selecting those which have the most detailed, high quality product description and a clear price.\n",
      "Respond strictly in JSON, and only JSON. You should rephrase the description to be a summary of the product itself, not the terms of the deal.\n",
      "Remember to respond with a paragraph of text in the product_description field for each of the 5 items that you select.\n",
      "Be careful with products that are described as \"$XXX off\" or \"reduced by $XXX\" - this isn't the actual price of the product. Only respond with products when you are highly confident about the price. \n",
      "\n",
      "Deals:\n",
      "\n",
      "Title: Jackery Explorer 3000 Pro 3,024Wh Portable Power Station + 100W Solar Panel 2-Pack for $1,600 + free shipping\n",
      "Details: That's $899 off list. Buy Now at Costco\n",
      "Features: Vast 3024wh Battery Capacity, 3000-watt/6000-watt AC Output  Super Fast 2.4 hours to Fully Charged with Wall Outlet AC Charging  Portable Design with Pull-Out Rod and Two Wheels, Moving It Around Easily  Including Two IP68 Waterproof 100w Solar Panels, Recharging Through Clean Solar Power  Power for Large Appliances up to 3000-watt Such as Air Conditioners, Power Tools, Microwave, Oven, Electric Grill, Space Heaters and More.\n",
      "URL: https://www.dealnews.com/Jackery-Explorer-3000-Pro-3-024-Wh-Portable-Power-Station-100-W-Solar-Panel-2-Pack-for-1-600-free-shipping/21716827.html?iref=rss-c142\n",
      "\n",
      "Title: Soundcore by Anker Valentine's Day Sale: Up to 33% off + free shipping\n",
      "Details: There are a few ways to save on headphones, earbuds, and portable speakers here. The dollar-off deals at the top of the page each have a unique coupon code assoiciated with them — you'll need to apply that to save. If you scroll down further, you'll find a number of \"buy one, get one 50% off\" offers. Below that, there are several items that come with free gifts, ranging in value from $13 to $70. Shop Now at Soundcore\n",
      "Features: \n",
      "URL: https://www.dealnews.com/Soundcore-by-Anker-Valentines-Day-Sale-Up-to-33-off-free-shipping/21716818.html?iref=rss-c142\n",
      "\n",
      "Title: Jackery Explorer 3000 Pro 3,024Wh Portable Power Station for $1,919 + free shipping\n",
      "Details: It's $1,280 under list price. Buy Now at Lowe's\n",
      "Features: includes solar panel built-in BMS protection Model: 60-3020-USB1B1\n",
      "URL: https://www.dealnews.com/products/Jackery/Jackery-Explorer-3000-Pro-3-024-Wh-Portable-Power-Station/474044.html?iref=rss-c142\n",
      "\n",
      "Title: Jackery Explorer 2000 v2 2,200W Portable Power Station + 2 SolarSaga 100W Solar Panels for $1,199 + free shipping\n",
      "Details: It's $900 under list price. Buy Now at Lowe's\n",
      "Features: ChargeShield 2.0 LiFePO4 battery 4,000 charge cycles Model: 21-0009-000169\n",
      "URL: https://www.dealnews.com/products/Jackery/Jackery-Explorer-2000-v2-2-200-W-Portable-Power-Station-2-Solar-Saga-100-W-Solar-Panels/486368.html?iref=rss-c142\n",
      "\n",
      "Title: Adorama Deals of the Day: Up to 63% off + free shipping\n",
      "Details: There are over 20 items discounted up to 63% off. You will find savings on scanners, binoculars, printers, and much more. Shop Now at Adorama\n",
      "Features: \n",
      "URL: https://www.dealnews.com/Adorama-Deals-of-the-Day-Up-to-63-off-free-shipping/21716785.html?iref=rss-c142\n",
      "\n",
      "Title: Elite Hosting Sale at eBay: Up to 60% off\n",
      "Details: In this sale you'll find deals on a selection of hosting essentials, including TVs, small appliances, and speakers. We've pictured the certified refurb LG Evo C4 Series 48\" 4K OLED UHD Smart TV for $699 (low by $298). Refurbs include 1- or 2-year Allstate warranties. Shop Now at eBay\n",
      "Features: \n",
      "URL: https://www.dealnews.com/Elite-Hosting-Sale-at-eBay-Up-to-60-off/21716733.html?iref=rss-c142\n",
      "\n",
      "Title: Target Outlet Deals at eBay: Up to 70% off + free shipping\n",
      "Details: In this sale you'll find discounts on clearance and outlet items across small appliances, home items, electronics, toys, and apparel. Shop Now at eBay\n",
      "Features: \n",
      "URL: https://www.dealnews.com/Target-Outlet-Deals-at-eBay-Up-to-70-off-free-shipping/21716713.html?iref=rss-c142\n",
      "\n",
      "Title: Open-Box Scosche MagicMount Charge5 Wireless Dash/Window Mount for $9 + free shipping\n",
      "Details: You'd pay around $30 elsewhere. Buy Now at eBay\n",
      "Features: \n",
      "URL: https://www.dealnews.com/Open-Box-Scosche-Magic-Mount-Charge5-Wireless-Dash-Window-Mount-for-9-free-shipping/21716642.html?iref=rss-c142\n",
      "\n",
      "Title: Citizen Men's CZ Smart Hybrid Smart Watch for $100 + free shipping\n",
      "Details: That's the best price we found by $113.This deal was good enough to make our roundup of the top five best deals of the day. Follow that link to see our latest selection. Buy Now at eBay\n",
      "Features: YouQ personalized insights compatible with both iPhone and Android Citizen Connected app stainless steel case water resistance to 100' Model: JX2005-55E\n",
      "URL: https://www.dealnews.com/products/Citizen/Citizen-Mens-CZ-Smart-Hybrid-Smart-Watch/486907.html?iref=rss-c142\n",
      "\n",
      "Title: Weather Hi-Def Radar Storm Watch Plus: Lifetime subscription for $28\n",
      "Details: New users can apply coupon code \"TAKE30\" to get this price — it's a $172 savings. This is a lifetime subscription to real-time radar images, future forecasts, map layers, and severe weather alerts. Buy Now at StackSocial\n",
      "Features: \n",
      "URL: https://www.dealnews.com/Weather-Hi-Def-Radar-Storm-Watch-Plus-Lifetime-subscription-for-28/21716111.html?iref=rss-c142\n",
      "\n",
      "Title: H&A USB Connected Mouse for $5 + free shipping w/ $50\n",
      "Details: It's a super low price on a USB connected mouse. Shipping starts at $3.99 or orders of $49.99 or more ships for free. Buy Now at Adorama\n",
      "Features: plug and play three buttons Model: WM10II\n",
      "URL: https://www.dealnews.com/products/H-A-USB-Connected-Mouse/486930.html?iref=rss-c39\n",
      "\n",
      "Title: Acer OFM832 2-Way Privacy Filter for 14\" Laptops for $5 + free shipping w/ $50\n",
      "Details: It's 75% off and the best deal we could find. Shipping starts at $3.99 or orders of $49.99 or more ships for free. Buy Now at Adorama\n",
      "Features: anti-glare reduces viewing angle to 60-degrees Model: NP.OTH11.01V\n",
      "URL: https://www.dealnews.com/products/Acer/Acer-OFM832-2-Way-Privacy-Filter-for-14-Laptops/486927.html?iref=rss-c39\n",
      "\n",
      "Title: Samsung Galaxy Tab A9+ 11\" 64GB Android Tablet 2024 for $149 + free shipping\n",
      "Details: This color is $20 less than you'd pay at Amazon, and a tie for the best price we've seen. It's in Navy at this price. Buy Now at Walmart\n",
      "Features: 11” 1920 x 1200 display Quad speakers with Dolby Atmos 4GB RAM, 64GB storage, expandable Samsung Kids app support Model: SM-X210NDBAXAR\n",
      "URL: https://www.dealnews.com/products/Samsung/Samsung-Galaxy-Tab-A9-11-64-GB-Android-Tablet-2024/486923.html?iref=rss-c39\n",
      "\n",
      "Title: Refurb Apple MacBook Pro M1 Max 16.2\" Laptop (2021) for $1,511 + free shipping\n",
      "Details: It's the best price we've seen for this model in any condition. It includes a 1-year Allstate warranty. Buy Now at eBay\n",
      "Features: Apple M1 Max 3.2GHz 10-core processor 32GB RAM and 1TB SSD 16.2\" 3456x2234 Liquid Retina XDR display macOS Model: MK1A3LL/A UPC: 194252546833\n",
      "URL: https://www.dealnews.com/products/Apple/Apple-Mac-Book-Pro-M1-Max-16-2-Laptop-2021/462492.html?iref=rss-c39\n",
      "\n",
      "Title: Apple MacBook Pro Deals at Best Buy: Up to $400 off + free shipping\n",
      "Details: Prices start at $1,299. We've pictured the Apple MacBook Pro M3 14\" Laptop for $1,399 ($200 off). Shop Now at Best Buy\n",
      "Features: \n",
      "URL: https://www.dealnews.com/Apple-Mac-Book-Pro-Deals-at-Best-Buy-Up-to-400-off-free-shipping/21716569.html?iref=rss-c39\n",
      "\n",
      "Title: Samsung Galaxy Book4 Edge 16\" Touch Laptop: Up to $300 off or up to $500 off w/ trade + free shipping\n",
      "Details: Save up to $300 — or get up to $500 in additional trade-in credit for your current device (The amount of trade-in credit you'll receive varies on what device you're trading in.) Shop Now at Samsung\n",
      "Features: \n",
      "URL: https://www.dealnews.com/Samsung-Galaxy-Book4-Edge-16-Touch-Laptop-Up-to-300-off-or-up-to-500-off-w-trade-free-shipping/21716558.html?iref=rss-c39\n",
      "\n",
      "Title: Open-Box Laptop Deals at Best Buy from $125 + free shipping\n",
      "Details: Save on over 40 configurations from Lenovo, HP, Apple, and more. We've pictured the Open-Box HP Chromebook Celeron 14\" Laptop from $214. Buy Now at Best Buy\n",
      "Features: \n",
      "URL: https://www.dealnews.com/Open-Box-Laptop-Deals-at-Best-Buy-from-125-free-shipping/21716555.html?iref=rss-c39\n",
      "\n",
      "Title: Samsung Galaxy Book5 Pro Preorder: Up to $500 off w/ trade + free shipping\n",
      "Details: When you trade in your current device, you'll save up to an extra $500 ($200 of which is a guaranteed instant trade-in credit with any PC trade). It releases on February 7. Shop Now at Samsung\n",
      "Features: \n",
      "URL: https://www.dealnews.com/Samsung-Galaxy-Book5-Pro-Preorder-Up-to-500-off-w-trade-free-shipping/21716542.html?iref=rss-c39\n",
      "\n",
      "Title: Dell Tech Days Gaming PC Deals: Up to $600 off + free shipping\n",
      "Details: Get savings on 8 gaming PCs. We've pictured the Alienware m18 R2 14th-Gen. i7 18\" Laptop w/ NVIDIA GeForce RTX 4070 for $1,999.99 ($400 off). Shop Now at Dell Technologies\n",
      "Features: \n",
      "URL: https://www.dealnews.com/Dell-Tech-Days-Gaming-PC-Deals-Up-to-600-off-free-shipping/21716491.html?iref=rss-c39\n",
      "\n",
      "Title: DeskSense AI Assistant Pro Plan: Lifetime subscription for $109\n",
      "Details: A subscription to this Pro plan would cost $199 per year direct from DeskSense, so you'll save $90 upfront, and hundreds of dollars over just a couple years of use. It gives you access to multiple GPT models, as well as Claude 3.0, Gemini Pro (GoogleAI), Llama 3 (MetaAI), and more. You get 144,000,000 credits per month, 80 AI image generations per month, and all AI features.This deal is for new users only; the browser extension only works with Chrome and Edge. Buy Now at StackSocial\n",
      "Features: \n",
      "URL: https://www.dealnews.com/Desk-Sense-AI-Assistant-Pro-Plan-Lifetime-subscription-for-109/21716702.html?iref=rss-c39\n",
      "\n",
      "Title: Pirelli Tires at SimpleTire: $80 off w/ 4 tires + free shipping\n",
      "Details: Use coupon code \"PIRELLI80OFFJAN25\" to get this discount on select sets of Pirelli tires. Eligible lines include the P7 All Season Plus 3 and the Scorpion All Terrain Plus. Shop Now at SimpleTire\n",
      "Features: \n",
      "URL: https://www.dealnews.com/Pirelli-Tires-at-Simple-Tire-80-off-w-4-tires-free-shipping/21716828.html?iref=rss-c238\n",
      "\n",
      "Title: Tire Deals at Walmart: Shop now + free shipping\n",
      "Details: Save on brands like Goodyear, Cooper, Nexen, and more, with prices starting at $43. We've pictured the Goodyear Wrangler TrailRunner AT All Terrain Tire for $108. Shipping is free over $35, or installation starts at $18 per tire. Shop Now at Walmart\n",
      "Features: \n",
      "URL: https://www.dealnews.com/Tire-Deals-at-Walmart-Shop-now-free-shipping/21716469.html?iref=rss-c238\n",
      "\n",
      "Title: Kobalt 50-PSI Tire Gauge for $2 + free shipping w/ $35\n",
      "Details: It's $2 less than the price of similar tire gauges elsewhere. Buy Now at Lowe's\n",
      "Features: \n",
      "URL: https://www.dealnews.com/products/Kobalt/Kobalt-50-PSI-Tire-Gauge/486848.html?iref=rss-c238\n",
      "\n",
      "Title: Nexpow Front and Rear HD Dash Camera for $40 + free shipping\n",
      "Details: That's $90 off and the best price we could find. Buy Now at Walmart\n",
      "Features: night vision G sensor loop recording Model: T7J6\n",
      "URL: https://www.dealnews.com/products/Nexpow-Front-and-Rear-HD-Dash-Camera/464089.html?iref=rss-c238\n",
      "\n",
      "Title: Temu Car Storage and Organizers Deals: Up to 80% off + free shipping\n",
      "Details: If one of your goals this year is to keep your vehicle more clean and tidy then this sale is just for you. You will find savings on back seat storage, car trash cans, headrest hooks, much more. We've pictured the Car Registration and Insurance Card Holder for $4.75 (half off). Shipping is free on lots of items, though some under $30 incur a $2.99 shipping fee. Shop Now at Temu\n",
      "Features: \n",
      "URL: https://www.dealnews.com/Temu-Car-Storage-and-Organizers-Deals-Up-to-80-off-free-shipping/21715593.html?iref=rss-c238\n",
      "\n",
      "Title: Torin 3-Ton Steel Hydraulic Portable Jack for $37 in cart + pickup\n",
      "Details: It's $17 less than Home Depot charges. The discount applies in cart for MyLowe's Rewards members (it's free to sign up). Opt for store pickup to avoid the delivery charge. Buy Now at Lowe's\n",
      "Features: for use on hydraulic cranes, engine hoists, and more Model: AT30306B\n",
      "URL: https://www.dealnews.com/products/Torin-Jack/Torin-3-Ton-Steel-Hydraulic-Portable-Jack/486755.html?iref=rss-c238\n",
      "\n",
      "Title: 6.5-Foot 4-Fold Tonneau Cover For 2014-2019 Silverado/Sierra for $139 + free shipping\n",
      "Details: Use code \"WINTERTAUS2025\" to get an extra 10% to get to this price. That's $14 under even the current Amazon Basics price for such a tonneau pickup bed cover. Buy Now at eBay\n",
      "Features: \n",
      "URL: https://www.dealnews.com/6-5-Foot-4-Fold-Tonneau-Cover-For-2014-2019-Silverado-Sierra-for-139-free-shipping/21715093.html?iref=rss-c238\n",
      "\n",
      "Title: Temu Automotive Deals: Up to 80% off + free shipping\n",
      "Details: Find deals on interior accessories, car storage and organizers, covers, RV furniture, and more. We've pictured the Handheld Portable Air Compressor for $14. Shipping is free on lots of them, but some under $30 incur a $2.99 fee. Shop Now at Temu\n",
      "Features: \n",
      "URL: https://www.dealnews.com/Temu-Automotive-Deals-Up-to-80-off-free-shipping/21714944.html?iref=rss-c238\n",
      "\n",
      "Title: Advance Auto Parts Sale: 20% off $100 + free shipping\n",
      "Details: Coupon code \"WINTER\" gets you this discount on orders of $100 or more. Plus, any qualifying orders should also get free shipping. (Note that many items are excluded from this discount — they're marked as such — including most, perhaps all, sale items.) Buy Now at Advance Auto Parts\n",
      "Features: \n",
      "URL: https://www.dealnews.com/Advance-Auto-Parts-Sale-20-off-100-free-shipping/21714924.html?iref=rss-c238\n",
      "\n",
      "Title: Northern Tool Automotive Sale: Up to 50% off\n",
      "Details: We've pictured the Stonepoint 46\" LED Linkable Shoplight for $19.39 with free shipping, a $16 savings. Shop Now at Northern Tool\n",
      "Features: \n",
      "URL: https://www.dealnews.com/Northern-Tool-Automotive-Sale-Up-to-50-off/21714581.html?iref=rss-c238\n",
      "\n",
      "Title: iRobot Roomba Vac Essential Robot Vacuum for $129 + free shipping\n",
      "Details: It's the best price we've seen for this model. Buy Now at eBay\n",
      "Features: 3-stage cleaning for carpets and hardwood floors cleaning scheduling runs up to 120 minutes per charging Model: Q012020 UPC: 885155041753\n",
      "URL: https://www.dealnews.com/products/iRobot/iRobot-Roomba-Vac-Essential-Robot-Vacuum/469604.html?iref=rss-f1912\n",
      "\n",
      "Title: Open-Box 4th Gen. Google Nest Thermostat (2020) for $60 + free shipping\n",
      "Details: That's the best price we've seen for a new or open box unit and $40 less than what Best Buy charges today. Buy Now at eBay\n",
      "Features: Eco mode programmable Energy Star certified supports Google Assistant or Amazon Alexa voice control Model: G4CVZ\n",
      "URL: https://www.dealnews.com/products/Google/Google-Nest-Thermostat-2020/232295.html?iref=rss-f1912\n",
      "\n",
      "Title: Onn 100012587 65\" 4K HDR UHD Smart TV for $298 + free shipping\n",
      "Details: Get $50 off this best seller. Buy Now at Walmart\n",
      "Features: 3810x2160 (4K) resolution HDR 10 Roku TV works with Apple Home, Amazon Alexa, and Google Home three HDMI ports Model: 100012587\n",
      "URL: https://www.dealnews.com/products/Onn/Onn-100012587-65-4-K-HDR-UHD-Smart-TV/486830.html?iref=rss-f1912\n",
      "\n",
      "Title: Blink Video Doorbell w/ Sync Module 2 for $28 + free shipping\n",
      "Details: MyLowe's Rewards members can log in to get this at the best-ever price we've seen, beating our mention from yesterday by $7. (It's free to sign up.) Buy Now at Lowe's\n",
      "Features: \n",
      "URL: https://www.dealnews.com/products/Blink/Blink-Video-Doorbell-w-Sync-Module-2/486790.html?iref=rss-f1912\n",
      "\n",
      "Title: Blink Smart Home and Security at Lowe's: 20% off in cart + free shipping w/ $35\n",
      "Details: Save on security cameras, video doorbells, floodlight cameras, and more - the discount applies in cart for MyLowe's Rewards members (it's free to sign up). We've pictured the Blink Mini 2 Smart Security Camera for $32 (low by $8). Choose in-store pickup to dodge the $5.99 shipping fee, or get free shipping with orders of $35 or more (also for Rewards members only). Shop Now at Lowe's\n",
      "Features: \n",
      "URL: https://www.dealnews.com/Blink-Smart-Home-and-Security-at-Lowes-20-off-in-cart-free-shipping-w-35/21715590.html?iref=rss-f1912\n",
      "\n",
      "Title: LG UT70 Series 43UT7000PUA 43\" 4K HDR LED UHD Smart TV for $220 + free shipping\n",
      "Details: Save $180 off list price. Buy Now at Best Buy\n",
      "Features: 4K resolution HDR 10 & HLG webOS works w/ Amazon Alexa, Google Assistant, Apple HomeKit 3 HDMI inputs Model: 43UT7000PUA\n",
      "URL: https://www.dealnews.com/products/LG/LG-UT70-Series-43-UT7000-PUA-43-4-K-HDR-LED-UHD-Smart-TV/486702.html?iref=rss-f1912\n",
      "\n",
      "Title: Arlo Pro 5S 2K 3-Camera Wire-Free Spotlight Security Camera Bundle for $199 + free shipping\n",
      "Details: Save $300 on this comprehensive home security kit. Buy Now at Best Buy\n",
      "Features: Includes 3 Pro 4 Cameras, 4 Rechargeable Batteries, Dual Battery Charging Station, 3 Anti-Theft Mounts, and Security Yard Sign Model: VMC4360P-1BYNAS\n",
      "URL: https://www.dealnews.com/products/Arlo/Arlo-Pro-5-S-2-K-3-Camera-Wire-Free-Spotlight-Security-Camera-Bundle/465214.html?iref=rss-f1912\n",
      "\n",
      "Title: Emerson Sensi Smart Thermostat for $169 + free shipping\n",
      "Details: That's $20 less than Home Depot's price. Buy Now at Lowe's\n",
      "Features: Compatible with Sensi Room Sensors usage reports, alerts about your equipment, and maintenance reminders 7-day temperature scheduling Model: ST76\n",
      "URL: https://www.dealnews.com/products/Emerson/Emerson-Sensi-Smart-Thermostat/486485.html?iref=rss-f1912\n",
      "\n",
      "Title: Nanoleaf Smart Lighting at Best Buy: Up to 40% off + free shipping\n",
      "Details: Save on smart light bulbs, string lights, and panel lights as you shop the more than two dozen choices. We've pictured the Nanoleaf Essentials BR30 Smart LED Thread & Matter Compatible Bulb 3-Pack) for $30 ($20 off). Best Buy members get free shipping. It's free to join. Shipping is free for everyone at the $35 threshold. In-store pickup may also be available. Shop Now at Best Buy\n",
      "Features: \n",
      "URL: https://www.dealnews.com/Nanoleaf-Smart-Lighting-at-Best-Buy-Up-to-40-off-free-shipping/21712731.html?iref=rss-f1912\n",
      "\n",
      "Title: 2nd-Gen. Apple HomePod Smart Speaker (2023) for $299 + free shipping\n",
      "Details: Get the newest Apple HomePod smart speaker in Midnight or White. You'll also get three months of Apple Music for free. Buy Now at Apple\n",
      "Features: high-excursion woofer & five tweeters Spatial Audio room sensing Siri voice recognition Model: MQJ73LL/A\n",
      "URL: https://www.dealnews.com/products/Apple/2-nd-Gen-Apple-Home-Pod-Smart-Speaker-2023/467409.html?iref=rss-f1912\n",
      "\n",
      "Title: Kobalt 10\" Cross-Cutting Multi-Saw for $10 + free shipping w/ $35\n",
      "Details: Get $5 off. Choose in-store pickup to dodge the $5.99 shipping fee, or get free shipping with orders of $35 or more by signing up to MyLowe's Rewards. (It's free to join.) Buy Now at Lowe's\n",
      "Features: \n",
      "URL: https://www.dealnews.com/products/Kobalt/Kobalt-10-Cross-Cutting-Multi-Saw/486501.html?iref=rss-c196\n",
      "\n",
      "Title: Skil 21-Piece Twist Drill Bit Set for $10 + free shipping w/ $35\n",
      "Details: Get $5 off this assortment. Choose in-store pickup to dodge the $5.99 shipping fee, or get free shipping with orders of $35 or more by signing up to MyLowe's Rewards. (It's free to join.) Buy Now at Lowe's\n",
      "Features: gold-oxide coating includes storage box Model: 98021\n",
      "URL: https://www.dealnews.com/products/Skil/Skil-21-Piece-Twist-Drill-Bit-Set/486935.html?iref=rss-c196\n",
      "\n",
      "Title: Bosch Blaze 165-Foot Laser Distance Measurer for $99 + free shipping\n",
      "Details: Today only, it's the best price we could find by $45. Buy Now at Lowe's\n",
      "Features: easy-to-read backlit color display Bluetooth Smart 4 Technology full rubber overmold housing IP65 waterproof Model: GLM165-27CG\n",
      "URL: https://www.dealnews.com/products/Bosch/Bosch-Blaze-165-Foot-Laser-Distance-Measurer/486934.html?iref=rss-c196\n",
      "\n",
      "Title: Custom Cabinet and Countertop Deals at Lowe's: Up to 30% off\n",
      "Details: Redesign your current kitchen or create the perfect kitchen from scratch. You can also schedule a free virtual design consulation. Shop Now at Lowe's\n",
      "Features: \n",
      "URL: https://www.dealnews.com/Custom-Cabinet-and-Countertop-Deals-at-Lowes-Up-to-30-off/21716864.html?iref=rss-c196\n",
      "\n",
      "Title: Shelves and Shelving Deals at Lowe's: Up to 25% off + free shipping w/ $35\n",
      "Details: We've pictured the Outopee 5-Tier Freestanding Shelving Unit for $118 ($30 off). Choose in-store pickup to dodge the $5.99 shipping fee, or get free shipping with orders of $35 or more by signing up to MyLowe's Rewards. (It's free to join.) Shop Now at Lowe's\n",
      "Features: \n",
      "URL: https://www.dealnews.com/Shelves-and-Shelving-Deals-at-Lowes-Up-to-25-off-free-shipping-w-35/21716861.html?iref=rss-c196\n",
      "\n",
      "Title: Major Appliance Deals at Lowe's: Up to 40% off + extra 10% off $699 + pickup\n",
      "Details: Get up to 40% off thousands of washers, dryers, ranges, dishwashers, and more. Plus, score an additional 10% off select appliances of $699 or more. Opt for store pickup (where available) to dodge the delivery fee. Buy Now at Lowe's\n",
      "Features: \n",
      "URL: https://www.dealnews.com/Major-Appliance-Deals-at-Lowes-Up-to-40-off-extra-10-off-699-pickup/21716856.html?iref=rss-c196\n",
      "\n",
      "Title: JCPenney Winter Clearance Deals: Up to 80% off + free shipping w/ $49\n",
      "Details: JCPenney has over 10,000 clearance items including kids' clothes and iPhone cases from $3, men's T-shirts from $4, men's accessories from $6, and much more. Shipping adds $9 but orders of $49 or more ship for free. Store pickup may also be available for select items. Shop Now at JCPenney\n",
      "Features: \n",
      "URL: https://www.dealnews.com/JCPenney-Winter-Clearance-Deals-Up-to-80-off-free-shipping-w-49/21716851.html?iref=rss-c196\n",
      "\n",
      "Title: Samsung Presidents' Day Home Appliance Deals: up to $1,800 off + Buy More, Save More + free shipping\n",
      "Details: Get instant savings up to $1,800 off. Even better:Buy two appliances to score a extra $100 off.Buy three for an extra $250 off.Buy four appliances and get $500 off.Plus, get an extra $100 off with select Bespoke refrigerator purchases. Shop Now at Samsung\n",
      "Features: \n",
      "URL: https://www.dealnews.com/Samsung-Presidents-Day-Home-Appliance-Deals-up-to-1-800-off-Buy-More-Save-More-free-shipping/21716845.html?iref=rss-c196\n",
      "\n",
      "Title: Jackery Explorer 3000 Pro 3,024Wh Portable Power Station + 100W Solar Panel 2-Pack for $1,600 + free shipping\n",
      "Details: That's $899 off list. Buy Now at Costco\n",
      "Features: Vast 3024wh Battery Capacity, 3000-watt/6000-watt AC Output  Super Fast 2.4 hours to Fully Charged with Wall Outlet AC Charging  Portable Design with Pull-Out Rod and Two Wheels, Moving It Around Easily  Including Two IP68 Waterproof 100w Solar Panels, Recharging Through Clean Solar Power  Power for Large Appliances up to 3000-watt Such as Air Conditioners, Power Tools, Microwave, Oven, Electric Grill, Space Heaters and More.\n",
      "URL: https://www.dealnews.com/Jackery-Explorer-3000-Pro-3-024-Wh-Portable-Power-Station-100-W-Solar-Panel-2-Pack-for-1-600-free-shipping/21716827.html?iref=rss-c196\n",
      "\n",
      "Title: BJ's Wholesale The Club Card 1-Year Membership for $20 w/ $20 credit after $60 purchase\n",
      "Details: New members can save $40 on this membership redemption code. Plus, if you spend $60 in your first 30 days, you'll get $20 added to your account for free. Buy Now at StackSocial\n",
      "Features: \n",
      "URL: https://www.dealnews.com/BJs-Wholesale-The-Club-Card-1-Year-Membership-for-20-w-20-credit-after-60-purchase/21715710.html?iref=rss-c196\n"
     ]
    }
   ],
   "source": [
    "pr = system_prompt + user_prompt\n",
    "print(pr)"
   ]
  },
  {
   "cell_type": "code",
   "execution_count": 1,
   "id": "e352ebec",
   "metadata": {},
   "outputs": [
    {
     "ename": "NameError",
     "evalue": "name 'chat_session' is not defined",
     "output_type": "error",
     "traceback": [
      "\u001b[1;31m---------------------------------------------------------------------------\u001b[0m",
      "\u001b[1;31mNameError\u001b[0m                                 Traceback (most recent call last)",
      "Cell \u001b[1;32mIn[1], line 1\u001b[0m\n\u001b[1;32m----> 1\u001b[0m response \u001b[38;5;241m=\u001b[39m \u001b[43mchat_session\u001b[49m\u001b[38;5;241m.\u001b[39msend_message(pr)\n\u001b[0;32m      2\u001b[0m \u001b[38;5;66;03m# response = DealSelection\u001b[39;00m\n\u001b[0;32m      3\u001b[0m \u001b[38;5;28mprint\u001b[39m(response\u001b[38;5;241m.\u001b[39mtext)\n",
      "\u001b[1;31mNameError\u001b[0m: name 'chat_session' is not defined"
     ]
    }
   ],
   "source": [
    "response = chat_session.send_message(pr)\n",
    "# response = DealSelection\n",
    "print(response.text)"
   ]
  },
  {
   "cell_type": "code",
   "execution_count": null,
   "id": "7de46f74-868c-4127-8a68-cf2da7d600bb",
   "metadata": {},
   "outputs": [],
   "source": [
    "def get_recommendations():\n",
    "    completion = openai.beta.chat.completions.parse(\n",
    "        model=\"gpt-4o-mini\",\n",
    "        messages=[\n",
    "            {\"role\": \"system\", \"content\": system_prompt},\n",
    "            {\"role\": \"user\", \"content\": user_prompt}\n",
    "      ],\n",
    "        response_format=DealSelection\n",
    "    )\n",
    "    result = completion.choices[0].message.parsed\n",
    "    return result"
   ]
  },
  {
   "cell_type": "code",
   "execution_count": null,
   "id": "4c06270d-8c17-4d5a-9cfe-b6cefe788d5e",
   "metadata": {},
   "outputs": [],
   "source": [
    "result = get_recommendations()"
   ]
  },
  {
   "cell_type": "code",
   "execution_count": 12,
   "id": "84e62845-3338-441a-8161-c70097af4773",
   "metadata": {},
   "outputs": [
    {
     "ename": "AttributeError",
     "evalue": "'str' object has no attribute 'deals'",
     "output_type": "error",
     "traceback": [
      "\u001b[1;31m---------------------------------------------------------------------------\u001b[0m",
      "\u001b[1;31mAttributeError\u001b[0m                            Traceback (most recent call last)",
      "Cell \u001b[1;32mIn[12], line 2\u001b[0m\n\u001b[0;32m      1\u001b[0m result \u001b[38;5;241m=\u001b[39m response\u001b[38;5;241m.\u001b[39mtext\n\u001b[1;32m----> 2\u001b[0m \u001b[38;5;28mlen\u001b[39m(\u001b[43mresult\u001b[49m\u001b[38;5;241;43m.\u001b[39;49m\u001b[43mdeals\u001b[49m)\n",
      "\u001b[1;31mAttributeError\u001b[0m: 'str' object has no attribute 'deals'"
     ]
    }
   ],
   "source": [
    "result = response.text\n",
    "len(result.deals)"
   ]
  },
  {
   "cell_type": "code",
   "execution_count": null,
   "id": "e5554a0a-ae40-4684-ad3e-faa3d22e030c",
   "metadata": {},
   "outputs": [],
   "source": [
    "result.deals[1]"
   ]
  },
  {
   "cell_type": "code",
   "execution_count": null,
   "id": "8bdc57fb-7497-47af-a643-6ba5a21cc17e",
   "metadata": {},
   "outputs": [],
   "source": [
    "from agents.scanner_agent import ScannerAgent"
   ]
  },
  {
   "cell_type": "code",
   "execution_count": null,
   "id": "132278bc-217a-43a6-b6c4-724140c6a225",
   "metadata": {},
   "outputs": [],
   "source": [
    "agent = ScannerAgent()\n",
    "result = agent.scan()"
   ]
  },
  {
   "cell_type": "code",
   "execution_count": null,
   "id": "2e1d013a-c930-4dad-901b-41433379e14b",
   "metadata": {},
   "outputs": [],
   "source": [
    "result"
   ]
  },
  {
   "cell_type": "code",
   "execution_count": null,
   "id": "5ee2e837-1f1d-42d4-8bc4-51cccc343006",
   "metadata": {},
   "outputs": [],
   "source": []
  }
 ],
 "metadata": {
  "kernelspec": {
   "display_name": ".venv",
   "language": "python",
   "name": "python3"
  },
  "language_info": {
   "codemirror_mode": {
    "name": "ipython",
    "version": 3
   },
   "file_extension": ".py",
   "mimetype": "text/x-python",
   "name": "python",
   "nbconvert_exporter": "python",
   "pygments_lexer": "ipython3",
   "version": "3.12.8"
  }
 },
 "nbformat": 4,
 "nbformat_minor": 5
}
